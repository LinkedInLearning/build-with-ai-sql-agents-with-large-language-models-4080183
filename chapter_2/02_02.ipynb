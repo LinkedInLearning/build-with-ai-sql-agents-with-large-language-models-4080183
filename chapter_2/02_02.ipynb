{
 "cells": [
  {
   "cell_type": "markdown",
   "id": "ae5983f8",
   "metadata": {},
   "source": [
    "# Working with LLMs API"
   ]
  },
  {
   "cell_type": "markdown",
   "id": "baab4269",
   "metadata": {},
   "source": [
    "In this notebook, we will illustrate how to send a prompt to LLM APIs for the following providers:\n",
    "- OpenAI\n",
    "- Google\n",
    "- Anthropic\n",
    "\n",
    "Both Google and Anthropic have their own API SDKs and are compatible with the OpenAI API SDK. Throughout the course, we will use the OpenAI API Python SDK.\n",
    "\n",
    "\n",
    "General requirements:\n",
    "- APIs keys\n",
    "- Python SDKs for the APIs\n",
    "\n",
    "Let's start by import the os library:"
   ]
  },
  {
   "cell_type": "code",
   "execution_count": 1,
   "id": "9367ba02",
   "metadata": {},
   "outputs": [],
   "source": [
    "import os"
   ]
  },
  {
   "cell_type": "markdown",
   "id": "772db33b",
   "metadata": {},
   "source": [
    "We than define the following prompt:"
   ]
  },
  {
   "cell_type": "code",
   "execution_count": 9,
   "id": "06c6658b",
   "metadata": {},
   "outputs": [],
   "source": [
    "content_prompt = \"\"\"\n",
    "I am working with a dataset that contains information about the Red30 company's product sales online.\n",
    "I want to create a SQL query that calculates the total sales by state.\n",
    "\"\"\""
   ]
  },
  {
   "cell_type": "markdown",
   "id": "df75373f",
   "metadata": {},
   "source": [
    "Next, we define the number of tokens and temperature:"
   ]
  },
  {
   "cell_type": "code",
   "execution_count": 3,
   "id": "66c43ca1",
   "metadata": {},
   "outputs": [],
   "source": [
    "temperature = 0\n",
    "max_tokens = 500"
   ]
  },
  {
   "cell_type": "markdown",
   "id": "6fbbf10f",
   "metadata": {},
   "source": [
    "# The OpenAI API"
   ]
  },
  {
   "cell_type": "code",
   "execution_count": 4,
   "id": "c306070b",
   "metadata": {},
   "outputs": [],
   "source": [
    "from openai import OpenAI\n",
    "import pandas as pd\n"
   ]
  },
  {
   "cell_type": "code",
   "execution_count": 5,
   "id": "03c861e1",
   "metadata": {},
   "outputs": [],
   "source": [
    "openai_api_key = os.environ.get(\"OPENAI_API_KEY\")\n",
    "client = OpenAI(api_key= openai_api_key)\n"
   ]
  },
  {
   "cell_type": "code",
   "execution_count": 10,
   "id": "c5580dd5",
   "metadata": {},
   "outputs": [],
   "source": [
    "response_openai = client.chat.completions.create(\n",
    "    model=\"gpt-4.1\",\n",
    "    messages=[{\"role\": \"user\", \"content\": content_prompt}],\n",
    "    temperature=temperature,\n",
    "    max_tokens= max_tokens,\n",
    ")\n"
   ]
  },
  {
   "cell_type": "code",
   "execution_count": 7,
   "id": "7b7cffab",
   "metadata": {},
   "outputs": [
    {
     "data": {
      "text/plain": [
       "ChatCompletion(id='chatcmpl-C8RjQQ8oSp1TERrhaLhmxils5VKKN', choices=[Choice(finish_reason='stop', index=0, logprobs=None, message=ChatCompletionMessage(content='Certainly! To write a SQL query to get the total number of sales by state, you’ll need to know the relevant table and column names. I’ll assume you have a table called `sales` with a column for `state` and a column for each sale (e.g., `sale_id` or `order_id`). If your table or column names are different, just adjust accordingly.\\n\\nHere’s a general example:\\n\\n```sql\\nSELECT\\n  state,\\n  COUNT(*) AS total_sales\\nFROM\\n  sales\\nGROUP BY\\n  state\\nORDER BY\\n  total_sales DESC;\\n```\\n\\n**Explanation:**\\n- `state`: The column indicating the state where the sale occurred.\\n- `COUNT(*)`: Counts the number of sales (rows) for each state.\\n- `GROUP BY state`: Groups the results by state.\\n- `ORDER BY total_sales DESC`: Orders the results from most to least sales.\\n\\nIf your sales data is in a different table or the state information is in a related table (e.g., `customers`), you may need a `JOIN`. Let me know if you need help with that or if you can provide your table structure!', refusal=None, role='assistant', annotations=[], audio=None, function_call=None, tool_calls=None))], created=1756129260, model='gpt-4.1-2025-04-14', object='chat.completion', service_tier='default', system_fingerprint='fp_3502f4eb73', usage=CompletionUsage(completion_tokens=236, prompt_tokens=43, total_tokens=279, completion_tokens_details=CompletionTokensDetails(accepted_prediction_tokens=0, audio_tokens=0, reasoning_tokens=0, rejected_prediction_tokens=0), prompt_tokens_details=PromptTokensDetails(audio_tokens=0, cached_tokens=0)))"
      ]
     },
     "execution_count": 7,
     "metadata": {},
     "output_type": "execute_result"
    }
   ],
   "source": [
    "response_openai\n"
   ]
  },
  {
   "cell_type": "code",
   "execution_count": 11,
   "id": "0c70fc12",
   "metadata": {},
   "outputs": [
    {
     "name": "stdout",
     "output_type": "stream",
     "text": [
      "Certainly! To help you write the SQL query, I’ll assume your dataset has at least the following columns:\n",
      "\n",
      "- `state` (the state where the sale occurred)\n",
      "- `sales_amount` (the amount of each sale)\n",
      "\n",
      "If your table is named `sales`, here’s a basic SQL query to calculate total sales by state:\n",
      "\n",
      "```sql\n",
      "SELECT\n",
      "  state,\n",
      "  SUM(sales_amount) AS total_sales\n",
      "FROM\n",
      "  sales\n",
      "GROUP BY\n",
      "  state\n",
      "ORDER BY\n",
      "  total_sales DESC;\n",
      "```\n",
      "\n",
      "**Explanation:**\n",
      "- `SUM(sales_amount)` calculates the total sales for each state.\n",
      "- `GROUP BY state` groups the results by state.\n",
      "- `ORDER BY total_sales DESC` sorts the results from highest to lowest sales.\n",
      "\n",
      "If your table or column names are different, just adjust them accordingly. If you need to join with another table (for example, if state info is in a `customers` table), let me know and I can help you modify the query!\n"
     ]
    }
   ],
   "source": [
    "print(response_openai.choices[0].message.content)\n"
   ]
  },
  {
   "cell_type": "markdown",
   "id": "e2de814c",
   "metadata": {},
   "source": [
    "# Google Gemini API\n"
   ]
  },
  {
   "cell_type": "code",
   "execution_count": 12,
   "id": "73ae25ad",
   "metadata": {},
   "outputs": [],
   "source": [
    "from google import genai\n",
    "from google.genai import types\n"
   ]
  },
  {
   "cell_type": "code",
   "execution_count": 13,
   "id": "b6886419",
   "metadata": {},
   "outputs": [],
   "source": [
    "gemini_api_key = os.environ.get(\"GEMINI_API_KEY\")\n",
    "gemini_client = genai.Client(api_key=gemini_api_key)"
   ]
  },
  {
   "cell_type": "code",
   "execution_count": 14,
   "id": "5c95a0cb",
   "metadata": {},
   "outputs": [],
   "source": [
    "response_gemini = gemini_client.models.generate_content(\n",
    "    model=\"gemini-2.0-flash\",\n",
    "    contents=content_prompt,\n",
    "    config=types.GenerateContentConfig(\n",
    "        max_output_tokens=max_tokens, temperature=temperature\n",
    "    ),\n",
    ")\n"
   ]
  },
  {
   "cell_type": "code",
   "execution_count": 15,
   "id": "6567538b",
   "metadata": {},
   "outputs": [
    {
     "name": "stdout",
     "output_type": "stream",
     "text": [
      "```sql\n",
      "SELECT\n",
      "    customer_state,\n",
      "    SUM(payment_value) AS total_sales\n",
      "FROM\n",
      "    orders o  -- Assuming you have an 'orders' table\n",
      "JOIN\n",
      "    customers c ON o.customer_id = c.customer_id  -- Assuming you have a 'customers' table and a customer_id to link them\n",
      "JOIN\n",
      "    order_payments op ON o.order_id = op.order_id  -- Assuming you have an 'order_payments' table and an order_id to link them\n",
      "GROUP BY\n",
      "    customer_state\n",
      "ORDER BY\n",
      "    total_sales DESC;  -- Optional: Order the results by total sales in descending order\n",
      "```\n",
      "\n",
      "**Explanation:**\n",
      "\n",
      "1. **`SELECT customer_state, SUM(payment_value) AS total_sales`**: This selects the customer's state and calculates the sum of the `payment_value` for each state.  `SUM(payment_value)` calculates the total sales amount.  `AS total_sales` gives the calculated sum a more descriptive name.\n",
      "\n",
      "2. **`FROM orders o JOIN customers c ON o.customer_id = c.customer_id JOIN order_payments op ON o.order_id = op.order_id`**: This specifies the tables involved and how they are joined.\n",
      "   * **`orders o`**:  We assume you have a table named `orders` (aliased as `o` for brevity) that contains order information, including the `customer_id`.\n",
      "   * **`customers c`**: We assume you have a table named `customers` (aliased as `c`) that contains customer information, including the `customer_id` and `customer_state`.\n",
      "   * **`order_payments op`**: We assume you have a table named `order_payments` (aliased as `op`) that contains payment information, including the `order_id` and `payment_value`.\n",
      "   * **`JOIN ... ON`**:  These clauses link the tables based on their common columns (`customer_id` and `order_id`).  This is crucial to connect the order information to the customer's state and the payment amount.  The `JOIN` type (implicitly `INNER JOIN`) ensures that only rows with matching `customer_id` and `order_id` in all tables are included.\n",
      "\n",
      "\n"
     ]
    }
   ],
   "source": [
    "print(response_gemini.candidates[0].content.parts[0].text)\n"
   ]
  },
  {
   "cell_type": "markdown",
   "id": "c74228a6",
   "metadata": {},
   "source": [
    "## Using the OpenAI API SDK"
   ]
  },
  {
   "cell_type": "markdown",
   "id": "4c882091",
   "metadata": {},
   "source": [
    "Let's now illustrate the use the OpenAI API SDK to call the Google Gemini API. You can find more details on the [doc](https://ai.google.dev/gemini-api/docs/openai)."
   ]
  },
  {
   "cell_type": "code",
   "execution_count": 16,
   "id": "1a489b04",
   "metadata": {},
   "outputs": [],
   "source": [
    "gemini_client2 = OpenAI(\n",
    "    api_key= gemini_api_key,\n",
    "    base_url=\"https://generativelanguage.googleapis.com/v1beta/openai/\",\n",
    ")\n"
   ]
  },
  {
   "cell_type": "code",
   "execution_count": 17,
   "id": "87da16d0",
   "metadata": {},
   "outputs": [],
   "source": [
    "response_gemini2 = gemini_client2.chat.completions.create(\n",
    "    model=\"gemini-2.0-flash\",\n",
    "    messages=[{\"role\": \"user\", \"content\": content_prompt}],\n",
    "    temperature=temperature,\n",
    "    max_tokens=max_tokens,\n",
    ")\n"
   ]
  },
  {
   "cell_type": "code",
   "execution_count": 18,
   "id": "fb304572",
   "metadata": {},
   "outputs": [
    {
     "name": "stdout",
     "output_type": "stream",
     "text": [
      "```sql\n",
      "SELECT\n",
      "    customer_state,\n",
      "    SUM(payment_value) AS total_sales\n",
      "FROM\n",
      "    orders o  -- Assuming you have an 'orders' table\n",
      "JOIN\n",
      "    customers c ON o.customer_id = c.customer_id  -- Assuming you have a 'customers' table and a customer_id to link them\n",
      "JOIN\n",
      "    order_payments op ON o.order_id = op.order_id  -- Assuming you have an 'order_payments' table and an order_id to link them\n",
      "GROUP BY\n",
      "    customer_state\n",
      "ORDER BY\n",
      "    total_sales DESC;  -- Optional: Order the results by total sales in descending order\n",
      "```\n",
      "\n",
      "**Explanation:**\n",
      "\n",
      "1. **`SELECT customer_state, SUM(payment_value) AS total_sales`**: This selects the customer's state and calculates the sum of the `payment_value` for each state.  `SUM(payment_value)` calculates the total sales amount.  `AS total_sales` gives the calculated sum a more descriptive name.\n",
      "\n",
      "2. **`FROM orders o JOIN customers c ON o.customer_id = c.customer_id JOIN order_payments op ON o.order_id = op.order_id`**: This specifies the tables involved and how they are joined.\n",
      "   * **`orders o`**:  We assume you have a table named `orders` (aliased as `o` for brevity) that contains order information, including the `customer_id`.\n",
      "   * **`customers c`**: We assume you have a table named `customers` (aliased as `c`) that contains customer information, including the `customer_id` and `customer_state`.\n",
      "   * **`order_payments op`**: We assume you have a table named `order_payments` (aliased as `op`) that contains payment information, including the `order_id` and `payment_value`.\n",
      "   * **`JOIN ... ON`**:  These clauses link the tables based on their common columns (`customer_id` and `order_id`).  This is crucial to connect the order information to the customer's state and the payment amount.  The `JOIN` type (implicitly `INNER JOIN`) ensures that only rows with matching `customer_id` and `order_id` in all tables are included.\n",
      "\n",
      "\n"
     ]
    }
   ],
   "source": [
    "print(response_gemini2.choices[0].message.content)\n"
   ]
  },
  {
   "cell_type": "markdown",
   "id": "665de233",
   "metadata": {},
   "source": [
    "# Anthropic Claude API"
   ]
  },
  {
   "cell_type": "code",
   "execution_count": 19,
   "id": "6de3c17f",
   "metadata": {},
   "outputs": [],
   "source": [
    "import anthropic\n"
   ]
  },
  {
   "cell_type": "code",
   "execution_count": 20,
   "id": "3cd58584",
   "metadata": {},
   "outputs": [],
   "source": [
    "claude_api_key = os.environ.get(\"CLAUDE_API_KEY\")\n",
    "claude_client = anthropic.Anthropic(api_key=claude_api_key)\n",
    "\n"
   ]
  },
  {
   "cell_type": "code",
   "execution_count": 21,
   "id": "50eff38a",
   "metadata": {},
   "outputs": [],
   "source": [
    "\n",
    "response_claude = claude_client.messages.create(\n",
    "    model=\"claude-sonnet-4-20250514\",\n",
    "    max_tokens=1024,\n",
    "    messages=[{\"role\": \"user\", \"content\": content_prompt}],\n",
    ")\n"
   ]
  },
  {
   "cell_type": "code",
   "execution_count": 22,
   "id": "cba65dba",
   "metadata": {},
   "outputs": [
    {
     "name": "stdout",
     "output_type": "stream",
     "text": [
      "Message(id='msg_0113ZAXeTnpSWd293aHs93eh', content=[TextBlock(citations=None, text=\"I'd be happy to help you create a SQL query to calculate total sales by state for Red30 company's product sales data. Here's a basic query structure:\\n\\n```sql\\nSELECT \\n    state,\\n    SUM(sales_amount) AS total_sales\\nFROM your_table_name\\nGROUP BY state\\nORDER BY total_sales DESC;\\n```\\n\\nHowever, to provide you with a more accurate query, I'd need to know:\\n\\n1. **Table name** - What is your table called?\\n2. **Column names** - What are the exact names of your columns for:\\n   - State information\\n   - Sales amount/revenue\\n3. **Data structure** - Are there any other relevant columns (like date, product type, etc.)?\\n\\nHere are a few variations depending on common column naming conventions:\\n\\n**If your columns are named differently:**\\n```sql\\n-- If state column is named 'customer_state' and sales is 'revenue'\\nSELECT \\n    customer_state AS state,\\n    SUM(revenue) AS total_sales\\nFROM red30_sales\\nGROUP BY customer_state\\nORDER BY total_sales DESC;\\n```\\n\\n**If you want to include additional details:**\\n```sql\\n-- Including count of orders and average sale per state\\nSELECT \\n    state,\\n    COUNT(*) AS order_count,\\n    SUM(sales_amount) AS total_sales,\\n    AVG(sales_amount) AS avg_sales_per_order\\nFROM red30_sales\\nGROUP BY state\\nORDER BY total_sales DESC;\\n```\\n\\nCould you share your table structure or column names so I can customize the query specifically for your dataset?\", type='text')], model='claude-sonnet-4-20250514', role='assistant', stop_reason='end_turn', stop_sequence=None, type='message', usage=Usage(cache_creation_input_tokens=0, cache_read_input_tokens=0, input_tokens=46, output_tokens=369, server_tool_use=None, service_tier='standard', cache_creation={'ephemeral_5m_input_tokens': 0, 'ephemeral_1h_input_tokens': 0}))\n"
     ]
    }
   ],
   "source": [
    "print(response_claude)\n"
   ]
  },
  {
   "cell_type": "code",
   "execution_count": 23,
   "id": "09f38463",
   "metadata": {},
   "outputs": [
    {
     "name": "stdout",
     "output_type": "stream",
     "text": [
      "I'd be happy to help you create a SQL query to calculate total sales by state for Red30 company's product sales data. Here's a basic query structure:\n",
      "\n",
      "```sql\n",
      "SELECT \n",
      "    state,\n",
      "    SUM(sales_amount) AS total_sales\n",
      "FROM your_table_name\n",
      "GROUP BY state\n",
      "ORDER BY total_sales DESC;\n",
      "```\n",
      "\n",
      "However, to provide you with a more accurate query, I'd need to know:\n",
      "\n",
      "1. **Table name** - What is your table called?\n",
      "2. **Column names** - What are the exact names of your columns for:\n",
      "   - State information\n",
      "   - Sales amount/revenue\n",
      "3. **Data structure** - Are there any other relevant columns (like date, product type, etc.)?\n",
      "\n",
      "Here are a few variations depending on common column naming conventions:\n",
      "\n",
      "**If your columns are named differently:**\n",
      "```sql\n",
      "-- If state column is named 'customer_state' and sales is 'revenue'\n",
      "SELECT \n",
      "    customer_state AS state,\n",
      "    SUM(revenue) AS total_sales\n",
      "FROM red30_sales\n",
      "GROUP BY customer_state\n",
      "ORDER BY total_sales DESC;\n",
      "```\n",
      "\n",
      "**If you want to include additional details:**\n",
      "```sql\n",
      "-- Including count of orders and average sale per state\n",
      "SELECT \n",
      "    state,\n",
      "    COUNT(*) AS order_count,\n",
      "    SUM(sales_amount) AS total_sales,\n",
      "    AVG(sales_amount) AS avg_sales_per_order\n",
      "FROM red30_sales\n",
      "GROUP BY state\n",
      "ORDER BY total_sales DESC;\n",
      "```\n",
      "\n",
      "Could you share your table structure or column names so I can customize the query specifically for your dataset?\n"
     ]
    }
   ],
   "source": [
    "print(response_claude.content[0].text)"
   ]
  },
  {
   "cell_type": "markdown",
   "id": "cbdbbeeb",
   "metadata": {},
   "source": [
    "## Using the OpenAI API SDK\n",
    "\n",
    "Let's now illustrate the use the OpenAI API SDK to call the Google Gemini API. You can find more details on the [doc](https://docs.anthropic.com/en/api/openai-sdk)."
   ]
  },
  {
   "cell_type": "code",
   "execution_count": 24,
   "id": "85c2461c",
   "metadata": {},
   "outputs": [],
   "source": [
    "claude_client2 = OpenAI(\n",
    "    api_key=claude_api_key,\n",
    "    base_url=\"https://api.anthropic.com/v1/\",\n",
    ")\n"
   ]
  },
  {
   "cell_type": "code",
   "execution_count": 25,
   "id": "8ab5ba80",
   "metadata": {},
   "outputs": [],
   "source": [
    "response_claude2 = claude_client2.chat.completions.create(\n",
    "    model=\"claude-opus-4-1-20250805\",\n",
    "    messages=[{\"role\": \"user\", \"content\": content_prompt}],\n",
    "    temperature=temperature,\n",
    "    max_tokens=max_tokens,\n",
    ")\n"
   ]
  },
  {
   "cell_type": "code",
   "execution_count": 26,
   "id": "a8dd14ba",
   "metadata": {},
   "outputs": [
    {
     "name": "stdout",
     "output_type": "stream",
     "text": [
      "I'll help you create a SQL query to calculate total sales by state for Red30's online product sales. Since I don't have the exact schema of your dataset, I'll provide a few variations based on common table structures.\n",
      "\n",
      "## Basic Query (Most Common Structure)\n",
      "\n",
      "```sql\n",
      "SELECT \n",
      "    state,\n",
      "    SUM(sales_amount) AS total_sales\n",
      "FROM \n",
      "    sales_table\n",
      "GROUP BY \n",
      "    state\n",
      "ORDER BY \n",
      "    total_sales DESC;\n",
      "```\n",
      "\n",
      "## If you have separate order and order_items tables:\n",
      "\n",
      "```sql\n",
      "SELECT \n",
      "    c.state,\n",
      "    SUM(oi.quantity * oi.unit_price) AS total_sales\n",
      "FROM \n",
      "    orders o\n",
      "    JOIN customers c ON o.customer_id = c.customer_id\n",
      "    JOIN order_items oi ON o.order_id = oi.order_id\n",
      "GROUP BY \n",
      "    c.state\n",
      "ORDER BY \n",
      "    total_sales DESC;\n",
      "```\n",
      "\n",
      "## With additional useful information:\n",
      "\n",
      "```sql\n",
      "SELECT \n",
      "    state,\n",
      "    COUNT(DISTINCT order_id) AS number_of_orders,\n",
      "    COUNT(DISTINCT customer_id) AS unique_customers,\n",
      "    SUM(sales_amount) AS total_sales,\n",
      "    ROUND(AVG(sales_amount), 2) AS avg_sale_amount\n",
      "FROM \n",
      "    sales_table\n",
      "GROUP BY \n",
      "    state\n",
      "ORDER BY \n",
      "    total_sales DESC;\n",
      "```\n",
      "\n",
      "## If you want to filter for a specific time period:\n",
      "\n",
      "```sql\n",
      "SELECT \n",
      "    state,\n",
      "    SUM(sales_amount) AS total_sales\n",
      "FROM \n",
      "    sales_table\n",
      "WHERE \n",
      "    sale_date >= '2024-01-01' \n",
      "    AND sale_date < '2025-01-01'\n",
      "GROUP BY \n",
      "    state\n",
      "ORDER BY \n",
      "    total_sales DESC;\n",
      "```\n",
      "\n",
      "To customize this query for your specific needs, please provide:\n",
      "1. The exact table name(s)\n",
      "2. Column names (especially for state and sales amount)\n",
      "3. Any specific filters or conditions you need\n",
      "4. Whether you need additional metrics beyond total sales\n"
     ]
    }
   ],
   "source": [
    "print(response_claude2.choices[0].message.content)\n"
   ]
  },
  {
   "cell_type": "markdown",
   "id": "696a39fa",
   "metadata": {},
   "source": [
    "# Resources\n",
    "\n",
    "- OpenAI API documentation\n",
    "- Gemini API documentation\n",
    "- Claude API documentation"
   ]
  }
 ],
 "metadata": {
  "kernelspec": {
   "display_name": "python-3.11-dev",
   "language": "python",
   "name": "python3"
  },
  "language_info": {
   "codemirror_mode": {
    "name": "ipython",
    "version": 3
   },
   "file_extension": ".py",
   "mimetype": "text/x-python",
   "name": "python",
   "nbconvert_exporter": "python",
   "pygments_lexer": "ipython3",
   "version": "3.11.13"
  }
 },
 "nbformat": 4,
 "nbformat_minor": 5
}
