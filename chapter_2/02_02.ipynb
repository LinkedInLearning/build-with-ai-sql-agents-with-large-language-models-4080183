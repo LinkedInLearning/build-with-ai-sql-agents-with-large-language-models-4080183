{
 "cells": [
  {
   "cell_type": "markdown",
   "id": "ae5983f8",
   "metadata": {},
   "source": [
    "# Working with LLMs API"
   ]
  },
  {
   "cell_type": "markdown",
   "id": "baab4269",
   "metadata": {},
   "source": [
    "In this notebook, we will illustrate how to send a prompt to LLM APIs for the following providers:\n",
    "- OpenAI\n",
    "- Google\n",
    "- Anthropic\n",
    "\n",
    "Both Google and Anthropic have their own API SDKs and are compatible with the OpenAI API SDK. Throughout the course, we will use the OpenAI API Python SDK.\n",
    "\n",
    "\n",
    "General requirements:\n",
    "- APIs keys\n",
    "- Python SDKs for the APIs\n",
    "\n",
    "Let's start by import the os library:"
   ]
  },
  {
   "cell_type": "code",
   "execution_count": null,
   "id": "9367ba02",
   "metadata": {},
   "outputs": [],
   "source": [
    "import os"
   ]
  },
  {
   "cell_type": "markdown",
   "id": "772db33b",
   "metadata": {},
   "source": [
    "We than define the following prompt:"
   ]
  },
  {
   "cell_type": "code",
   "execution_count": null,
   "id": "06c6658b",
   "metadata": {},
   "outputs": [],
   "source": [
    "content_prompt = \"\"\"\n",
    "I am working with a dataset that contains information about Chicago crime incidents. \n",
    "I want to create a SQL query to pull the total number of crimes that ended in arrest by a year\n",
    "\"\"\""
   ]
  },
  {
   "cell_type": "markdown",
   "id": "df75373f",
   "metadata": {},
   "source": [
    "Next, we define the number of tokens and temperature:"
   ]
  },
  {
   "cell_type": "code",
   "execution_count": 31,
   "id": "66c43ca1",
   "metadata": {},
   "outputs": [],
   "source": [
    "temperature = 0\n",
    "max_tokens = 500"
   ]
  },
  {
   "cell_type": "markdown",
   "id": "6fbbf10f",
   "metadata": {},
   "source": [
    "# The OpenAI API"
   ]
  },
  {
   "cell_type": "code",
   "execution_count": null,
   "id": "c306070b",
   "metadata": {},
   "outputs": [],
   "source": [
    "from openai import OpenAI\n",
    "import pandas as pd\n"
   ]
  },
  {
   "cell_type": "code",
   "execution_count": 32,
   "id": "03c861e1",
   "metadata": {},
   "outputs": [],
   "source": [
    "openai_api_key = os.environ.get(\"OPENAI_API_KEY\")\n",
    "client = OpenAI(api_key= openai_api_key)\n"
   ]
  },
  {
   "cell_type": "code",
   "execution_count": 33,
   "id": "c5580dd5",
   "metadata": {},
   "outputs": [],
   "source": [
    "response_openai = client.chat.completions.create(\n",
    "    model=\"gpt-4.1\",\n",
    "    messages=[{\"role\": \"user\", \"content\": content_prompt}],\n",
    "    temperature=temperature,\n",
    "    max_tokens= max_tokens,\n",
    ")\n"
   ]
  },
  {
   "cell_type": "code",
   "execution_count": 34,
   "id": "7b7cffab",
   "metadata": {},
   "outputs": [
    {
     "data": {
      "text/plain": [
       "ChatCompletion(id='chatcmpl-C6zBUKxgFfuzlQaasCgcQPWkkHDNa', choices=[Choice(finish_reason='stop', index=0, logprobs=None, message=ChatCompletionMessage(content=\"Certainly! Assuming your table is named `chicago_crimes` and has at least the following columns:\\n\\n- `arrest` (a boolean or string indicating if an arrest was made, e.g., `TRUE`/`FALSE` or `'Y'`/`'N'`)\\n- `date` (a date or datetime column indicating when the crime occurred)\\n\\nHere’s a sample SQL query to get the total number of crimes that ended in arrest, grouped by year:\\n\\n```sql\\nSELECT \\n    EXTRACT(YEAR FROM date) AS year,\\n    COUNT(*) AS total_arrests\\nFROM \\n    chicago_crimes\\nWHERE \\n    arrest = TRUE  -- or 'Y' if it's a string\\nGROUP BY \\n    year\\nORDER BY \\n    year;\\n```\\n\\n**Notes:**\\n- If your `arrest` column is a string (`'Y'`/`'N'`), change `arrest = TRUE` to `arrest = 'Y'`.\\n- If your SQL dialect does not support `EXTRACT(YEAR FROM date)`, you can use `YEAR(date)` (MySQL, SQL Server) or `strftime('%Y', date)` (SQLite).\\n- If your date column is not named `date`, replace it with the correct column name.\\n\\n**Example for MySQL:**\\n```sql\\nSELECT \\n    YEAR(date) AS year,\\n    COUNT(*) AS total_arrests\\nFROM \\n    chicago_crimes\\nWHERE \\n    arrest = 1  -- or 'Y'\\nGROUP BY \\n    year\\nORDER BY \\n    year;\\n```\\n\\nLet me know if you need the query tailored to a specific SQL dialect or table schema!\", refusal=None, role='assistant', annotations=[], audio=None, function_call=None, tool_calls=None))], created=1755781196, model='gpt-4.1-2025-04-14', object='chat.completion', service_tier='default', system_fingerprint='fp_daf5fcc80a', usage=CompletionUsage(completion_tokens=342, prompt_tokens=45, total_tokens=387, completion_tokens_details=CompletionTokensDetails(accepted_prediction_tokens=0, audio_tokens=0, reasoning_tokens=0, rejected_prediction_tokens=0), prompt_tokens_details=PromptTokensDetails(audio_tokens=0, cached_tokens=0)))"
      ]
     },
     "execution_count": 34,
     "metadata": {},
     "output_type": "execute_result"
    }
   ],
   "source": [
    "response_openai\n"
   ]
  },
  {
   "cell_type": "code",
   "execution_count": 35,
   "id": "0c70fc12",
   "metadata": {},
   "outputs": [
    {
     "name": "stdout",
     "output_type": "stream",
     "text": [
      "Certainly! Assuming your table is named `chicago_crimes` and has at least the following columns:\n",
      "\n",
      "- `arrest` (a boolean or string indicating if an arrest was made, e.g., `TRUE`/`FALSE` or `'Y'`/`'N'`)\n",
      "- `date` (a date or datetime column indicating when the crime occurred)\n",
      "\n",
      "Here’s a sample SQL query to get the total number of crimes that ended in arrest, grouped by year:\n",
      "\n",
      "```sql\n",
      "SELECT \n",
      "    EXTRACT(YEAR FROM date) AS year,\n",
      "    COUNT(*) AS total_arrests\n",
      "FROM \n",
      "    chicago_crimes\n",
      "WHERE \n",
      "    arrest = TRUE  -- or 'Y' if it's a string\n",
      "GROUP BY \n",
      "    year\n",
      "ORDER BY \n",
      "    year;\n",
      "```\n",
      "\n",
      "**Notes:**\n",
      "- If your `arrest` column is a string (`'Y'`/`'N'`), change `arrest = TRUE` to `arrest = 'Y'`.\n",
      "- If your SQL dialect does not support `EXTRACT(YEAR FROM date)`, you can use `YEAR(date)` (MySQL, SQL Server) or `strftime('%Y', date)` (SQLite).\n",
      "- If your date column is not named `date`, replace it with the correct column name.\n",
      "\n",
      "**Example for MySQL:**\n",
      "```sql\n",
      "SELECT \n",
      "    YEAR(date) AS year,\n",
      "    COUNT(*) AS total_arrests\n",
      "FROM \n",
      "    chicago_crimes\n",
      "WHERE \n",
      "    arrest = 1  -- or 'Y'\n",
      "GROUP BY \n",
      "    year\n",
      "ORDER BY \n",
      "    year;\n",
      "```\n",
      "\n",
      "Let me know if you need the query tailored to a specific SQL dialect or table schema!\n"
     ]
    }
   ],
   "source": [
    "print(response_openai.choices[0].message.content)\n"
   ]
  },
  {
   "cell_type": "markdown",
   "id": "e2de814c",
   "metadata": {},
   "source": [
    "# Google Gemini API\n"
   ]
  },
  {
   "cell_type": "code",
   "execution_count": 27,
   "id": "73ae25ad",
   "metadata": {},
   "outputs": [],
   "source": [
    "from google import genai\n",
    "from google.genai import types\n"
   ]
  },
  {
   "cell_type": "code",
   "execution_count": 43,
   "id": "b6886419",
   "metadata": {},
   "outputs": [],
   "source": [
    "gemini_api_key = os.environ.get(\"GEMINI_API_KEY\")\n",
    "gemini_client = genai.Client(api_key=gemini_api_key)"
   ]
  },
  {
   "cell_type": "code",
   "execution_count": null,
   "id": "5c95a0cb",
   "metadata": {},
   "outputs": [],
   "source": [
    "response_gemini = gemini_client.models.generate_content(\n",
    "    model=\"gemini-2.0-flash\",\n",
    "    contents=content_prompt,\n",
    "    config=types.GenerateContentConfig(\n",
    "        max_output_tokens=max_tokens, temperature=temperature\n",
    "    ),\n",
    ")\n"
   ]
  },
  {
   "cell_type": "code",
   "execution_count": null,
   "id": "6567538b",
   "metadata": {},
   "outputs": [
    {
     "name": "stdout",
     "output_type": "stream",
     "text": [
      "```sql\n",
      "SELECT\n",
      "    STRFTIME('%Y', Date) AS CrimeYear,  -- Extract the year from the 'Date' column\n",
      "    COUNT(*) AS TotalArrests\n",
      "FROM\n",
      "    ChicagoCrimes\n",
      "WHERE\n",
      "    Arrest = TRUE  -- Filter for incidents where an arrest was made\n",
      "GROUP BY\n",
      "    CrimeYear\n",
      "ORDER BY\n",
      "    CrimeYear;\n",
      "```\n",
      "\n",
      "**Explanation:**\n",
      "\n",
      "1. **`SELECT STRFTIME('%Y', Date) AS CrimeYear, COUNT(*) AS TotalArrests`**:\n",
      "   - `STRFTIME('%Y', Date)`: This extracts the year from the `Date` column.  The `STRFTIME` function is a powerful date and time formatting function in SQLite (and many other SQL dialects).  `'%Y'` specifies that we want to extract the year in a four-digit format (e.g., 2023).  The `Date` column is assumed to be in a format that SQLite can understand (e.g., 'YYYY-MM-DD', 'YYYY-MM-DD HH:MM:SS', or a Unix timestamp).  If your `Date` column is in a different format, you might need to adjust this part of the query.  For example, if your date is stored as text in the format 'MM/DD/YYYY', you might need to use `STRFTIME('%Y', SUBSTR(Date, 7, 4) || '-' || SUBSTR(Date, 1, 2) || '-' || SUBSTR(Date, 4, 2))`.  This would reformat the date string into a format SQLite can understand.\n",
      "   - `AS CrimeYear`:  This assigns the alias `CrimeYear` to the extracted year, making it easier to refer to in the `GROUP BY` and `ORDER BY` clauses.\n",
      "   - `COUNT(*) AS TotalArrests`: This counts the number of rows (i.e., crime incidents) for each year.  `AS TotalArrests` gives the count a descriptive name.\n",
      "\n",
      "2. **`FROM ChicagoCrimes`**:\n",
      "   - This specifies the table from which to retrieve the data, which is assumed to be named `ChicagoCrimes`.  **Important:**  Replace `ChicagoCrimes` with the actual name of your table.\n",
      "\n",
      "3. **`WHERE Arrest = TRUE`**:\n",
      "   - This\n"
     ]
    }
   ],
   "source": [
    "print(response_gemini.candidates[0].content.parts[0].text)\n"
   ]
  },
  {
   "cell_type": "markdown",
   "id": "c74228a6",
   "metadata": {},
   "source": [
    "## Using the OpenAI API SDK"
   ]
  },
  {
   "cell_type": "markdown",
   "id": "4c882091",
   "metadata": {},
   "source": [
    "Let's now illustrate the use the OpenAI API SDK to call the Google Gemini API. You can find more details on the [doc](https://ai.google.dev/gemini-api/docs/openai)."
   ]
  },
  {
   "cell_type": "code",
   "execution_count": 45,
   "id": "1a489b04",
   "metadata": {},
   "outputs": [],
   "source": [
    "gemini_client2 = OpenAI(\n",
    "    api_key= gemini_api_key,\n",
    "    base_url=\"https://generativelanguage.googleapis.com/v1beta/openai/\",\n",
    ")\n"
   ]
  },
  {
   "cell_type": "code",
   "execution_count": 50,
   "id": "87da16d0",
   "metadata": {},
   "outputs": [],
   "source": [
    "response_gemini2 = gemini_client2.chat.completions.create(\n",
    "    model=\"gemini-2.0-flash\",\n",
    "    messages=[{\"role\": \"user\", \"content\": content_prompt}],\n",
    "    temperature=temperature,\n",
    "    max_tokens=max_tokens,\n",
    ")\n"
   ]
  },
  {
   "cell_type": "code",
   "execution_count": 52,
   "id": "fb304572",
   "metadata": {},
   "outputs": [
    {
     "name": "stdout",
     "output_type": "stream",
     "text": [
      "```sql\n",
      "SELECT\n",
      "    STRFTIME('%Y', Date) AS CrimeYear,  -- Extract the year from the 'Date' column\n",
      "    COUNT(*) AS TotalArrests\n",
      "FROM\n",
      "    ChicagoCrimes\n",
      "WHERE\n",
      "    Arrest = TRUE  -- Filter for incidents where an arrest was made\n",
      "GROUP BY\n",
      "    CrimeYear\n",
      "ORDER BY\n",
      "    CrimeYear;\n",
      "```\n",
      "\n",
      "**Explanation:**\n",
      "\n",
      "1. **`SELECT STRFTIME('%Y', Date) AS CrimeYear, COUNT(*) AS TotalArrests`**:\n",
      "   - `STRFTIME('%Y', Date)`: This extracts the year from the `Date` column.  The `STRFTIME` function is a powerful date and time formatting function in SQLite (and many other SQL dialects).  `'%Y'` specifies that we want to extract the year in a four-digit format (e.g., 2023).  The `Date` column is assumed to be in a format that SQLite can understand (e.g., 'YYYY-MM-DD', 'YYYY-MM-DD HH:MM:SS', or a Unix timestamp).  If your `Date` column is in a different format, you might need to adjust this part of the query.  For example, if your date is stored as text in the format 'MM/DD/YYYY', you might need to use `STRFTIME('%Y', SUBSTR(Date, 7, 4) || '-' || SUBSTR(Date, 1, 2) || '-' || SUBSTR(Date, 4, 2))`.  This would reformat the date string into a format SQLite can understand.\n",
      "   - `AS CrimeYear`:  This assigns the alias `CrimeYear` to the extracted year, making it easier to refer to in the `GROUP BY` and `ORDER BY` clauses.\n",
      "   - `COUNT(*) AS TotalArrests`: This counts the number of rows (i.e., crime incidents) for each year.  `AS TotalArrests` gives the count a descriptive name.\n",
      "\n",
      "2. **`FROM ChicagoCrimes`**:\n",
      "   - This specifies the table from which to retrieve the data, which is assumed to be named `ChicagoCrimes`.  **Important:**  Replace `ChicagoCrimes` with the actual name of your table.\n",
      "\n",
      "3. **`WHERE Arrest = TRUE`**:\n",
      "   - This\n"
     ]
    }
   ],
   "source": [
    "print(response_gemini2.choices[0].message.content)\n"
   ]
  },
  {
   "cell_type": "markdown",
   "id": "665de233",
   "metadata": {},
   "source": [
    "# Anthropic Claude API"
   ]
  },
  {
   "cell_type": "code",
   "execution_count": 42,
   "id": "6de3c17f",
   "metadata": {},
   "outputs": [],
   "source": [
    "import anthropic\n"
   ]
  },
  {
   "cell_type": "code",
   "execution_count": 54,
   "id": "3cd58584",
   "metadata": {},
   "outputs": [],
   "source": [
    "claude_api_key = os.environ.get(\"CLAUDE_API_KEY\")\n",
    "claude_client = anthropic.Anthropic(api_key=claude_api_key)\n",
    "\n"
   ]
  },
  {
   "cell_type": "code",
   "execution_count": 55,
   "id": "50eff38a",
   "metadata": {},
   "outputs": [],
   "source": [
    "\n",
    "response_claude = claude_client.messages.create(\n",
    "    model=\"claude-sonnet-4-20250514\",\n",
    "    max_tokens=1024,\n",
    "    messages=[{\"role\": \"user\", \"content\": content_prompt}],\n",
    ")\n"
   ]
  },
  {
   "cell_type": "code",
   "execution_count": 56,
   "id": "cba65dba",
   "metadata": {},
   "outputs": [
    {
     "name": "stdout",
     "output_type": "stream",
     "text": [
      "Message(id='msg_013Eq75NfJqSXCXmWyP5np3j', content=[TextBlock(citations=None, text=\"Here's a SQL query to get the total number of crimes that ended in arrest by year from a Chicago crime dataset:\\n\\n```sql\\nSELECT \\n    EXTRACT(YEAR FROM date_column) AS year,\\n    COUNT(*) AS total_arrests\\nFROM chicago_crime_table\\nWHERE arrest = TRUE\\nGROUP BY EXTRACT(YEAR FROM date_column)\\nORDER BY year;\\n```\\n\\nHowever, since I don't know your exact table structure, you may need to adjust the following parts:\\n\\n1. **Table name**: Replace `chicago_crime_table` with your actual table name\\n2. **Date column**: Replace `date_column` with your actual date column name (commonly `date`, `incident_date`, `date_occurred`, etc.)\\n3. **Arrest column**: Replace `arrest` with your actual arrest column name, and adjust the condition based on how arrests are indicated in your data:\\n   - If it's a boolean: `WHERE arrest = TRUE`\\n   - If it's text: `WHERE arrest = 'Y'` or `WHERE arrest = 'Yes'`\\n   - If it's numeric: `WHERE arrest = 1`\\n\\nHere are a few variations depending on common column naming conventions:\\n\\n**Version 1 - If using timestamp/datetime:**\\n```sql\\nSELECT \\n    YEAR(date) AS year,\\n    COUNT(*) AS total_arrests\\nFROM crimes\\nWHERE arrest = 'true'\\nGROUP BY YEAR(date)\\nORDER BY year;\\n```\\n\\n**Version 2 - If arrest is stored as Y/N:**\\n```sql\\nSELECT \\n    EXTRACT(YEAR FROM incident_date) AS year,\\n    COUNT(*) AS total_arrests\\nFROM chicago_crimes\\nWHERE arrest = 'Y'\\nGROUP BY EXTRACT(YEAR FROM incident_date)\\nORDER BY year;\\n```\\n\\nCould you share the column names from your dataset so I can provide a more specific query?\", type='text')], model='claude-sonnet-4-20250514', role='assistant', stop_reason='end_turn', stop_sequence=None, type='message', usage=Usage(cache_creation_input_tokens=0, cache_read_input_tokens=0, input_tokens=46, output_tokens=432, server_tool_use=None, service_tier='standard', cache_creation={'ephemeral_5m_input_tokens': 0, 'ephemeral_1h_input_tokens': 0}))\n"
     ]
    }
   ],
   "source": [
    "print(response_claude)\n"
   ]
  },
  {
   "cell_type": "code",
   "execution_count": 57,
   "id": "09f38463",
   "metadata": {},
   "outputs": [
    {
     "name": "stdout",
     "output_type": "stream",
     "text": [
      "Here's a SQL query to get the total number of crimes that ended in arrest by year from a Chicago crime dataset:\n",
      "\n",
      "```sql\n",
      "SELECT \n",
      "    EXTRACT(YEAR FROM date_column) AS year,\n",
      "    COUNT(*) AS total_arrests\n",
      "FROM chicago_crime_table\n",
      "WHERE arrest = TRUE\n",
      "GROUP BY EXTRACT(YEAR FROM date_column)\n",
      "ORDER BY year;\n",
      "```\n",
      "\n",
      "However, since I don't know your exact table structure, you may need to adjust the following parts:\n",
      "\n",
      "1. **Table name**: Replace `chicago_crime_table` with your actual table name\n",
      "2. **Date column**: Replace `date_column` with your actual date column name (commonly `date`, `incident_date`, `date_occurred`, etc.)\n",
      "3. **Arrest column**: Replace `arrest` with your actual arrest column name, and adjust the condition based on how arrests are indicated in your data:\n",
      "   - If it's a boolean: `WHERE arrest = TRUE`\n",
      "   - If it's text: `WHERE arrest = 'Y'` or `WHERE arrest = 'Yes'`\n",
      "   - If it's numeric: `WHERE arrest = 1`\n",
      "\n",
      "Here are a few variations depending on common column naming conventions:\n",
      "\n",
      "**Version 1 - If using timestamp/datetime:**\n",
      "```sql\n",
      "SELECT \n",
      "    YEAR(date) AS year,\n",
      "    COUNT(*) AS total_arrests\n",
      "FROM crimes\n",
      "WHERE arrest = 'true'\n",
      "GROUP BY YEAR(date)\n",
      "ORDER BY year;\n",
      "```\n",
      "\n",
      "**Version 2 - If arrest is stored as Y/N:**\n",
      "```sql\n",
      "SELECT \n",
      "    EXTRACT(YEAR FROM incident_date) AS year,\n",
      "    COUNT(*) AS total_arrests\n",
      "FROM chicago_crimes\n",
      "WHERE arrest = 'Y'\n",
      "GROUP BY EXTRACT(YEAR FROM incident_date)\n",
      "ORDER BY year;\n",
      "```\n",
      "\n",
      "Could you share the column names from your dataset so I can provide a more specific query?\n"
     ]
    }
   ],
   "source": [
    "print(response_claude.content[0].text)"
   ]
  },
  {
   "cell_type": "markdown",
   "id": "cbdbbeeb",
   "metadata": {},
   "source": [
    "## Using the OpenAI API SDK\n",
    "\n",
    "Let's now illustrate the use the OpenAI API SDK to call the Google Gemini API. You can find more details on the [doc](https://docs.anthropic.com/en/api/openai-sdk)."
   ]
  },
  {
   "cell_type": "code",
   "execution_count": 58,
   "id": "85c2461c",
   "metadata": {},
   "outputs": [],
   "source": [
    "claude_client2 = OpenAI(\n",
    "    api_key=claude_api_key,\n",
    "    base_url=\"https://api.anthropic.com/v1/\",\n",
    ")\n"
   ]
  },
  {
   "cell_type": "code",
   "execution_count": 59,
   "id": "8ab5ba80",
   "metadata": {},
   "outputs": [],
   "source": [
    "response_claude2 = claude_client2.chat.completions.create(\n",
    "    model=\"claude-opus-4-1-20250805\",\n",
    "    messages=[{\"role\": \"user\", \"content\": content_prompt}],\n",
    "    temperature=temperature,\n",
    "    max_tokens=max_tokens,\n",
    ")\n"
   ]
  },
  {
   "cell_type": "code",
   "execution_count": 60,
   "id": "a8dd14ba",
   "metadata": {},
   "outputs": [
    {
     "name": "stdout",
     "output_type": "stream",
     "text": [
      "Here's a SQL query to get the total number of crimes that ended in arrest by year from a Chicago crime dataset:\n",
      "\n",
      "```sql\n",
      "SELECT \n",
      "    YEAR(date) AS year,\n",
      "    COUNT(*) AS total_arrests\n",
      "FROM \n",
      "    crimes\n",
      "WHERE \n",
      "    arrest = TRUE\n",
      "GROUP BY \n",
      "    YEAR(date)\n",
      "ORDER BY \n",
      "    year;\n",
      "```\n",
      "\n",
      "**Alternative versions depending on your database system and column names:**\n",
      "\n",
      "If your date column has a different name or format:\n",
      "```sql\n",
      "-- If the date column is named differently (e.g., 'incident_date', 'occurred_date')\n",
      "SELECT \n",
      "    YEAR(incident_date) AS year,\n",
      "    COUNT(*) AS total_arrests\n",
      "FROM \n",
      "    crimes\n",
      "WHERE \n",
      "    arrest = TRUE\n",
      "GROUP BY \n",
      "    YEAR(incident_date)\n",
      "ORDER BY \n",
      "    year;\n",
      "```\n",
      "\n",
      "If you're using PostgreSQL:\n",
      "```sql\n",
      "SELECT \n",
      "    EXTRACT(YEAR FROM date) AS year,\n",
      "    COUNT(*) AS total_arrests\n",
      "FROM \n",
      "    crimes\n",
      "WHERE \n",
      "    arrest = TRUE\n",
      "GROUP BY \n",
      "    EXTRACT(YEAR FROM date)\n",
      "ORDER BY \n",
      "    year;\n",
      "```\n",
      "\n",
      "If the arrest column uses different values (like 'Y'/'N' or 1/0):\n",
      "```sql\n",
      "-- For 'Y'/'N' values\n",
      "SELECT \n",
      "    YEAR(date) AS year,\n",
      "    COUNT(*) AS total_arrests\n",
      "FROM \n",
      "    crimes\n",
      "WHERE \n",
      "    arrest = 'Y'\n",
      "GROUP BY \n",
      "    YEAR(date)\n",
      "ORDER BY \n",
      "    year;\n",
      "\n",
      "-- For 1/0 values\n",
      "SELECT \n",
      "    YEAR(date) AS year,\n",
      "    COUNT(*) AS total_arrests\n",
      "FROM \n",
      "    crimes\n",
      "WHERE \n",
      "    arrest = 1\n",
      "GROUP BY \n",
      "    YEAR(date)\n",
      "ORDER BY \n",
      "    year;\n",
      "```\n",
      "\n",
      "**Note:** You'll need to adjust the table name (`crimes`) and column names (`date`, `arrest`) to match your actual dataset schema. Common variations for Chicago crime data include tables named `chicago_crimes`, `crime_data`, or similar, with columns like `Date`, `Arrest`, `Date\n"
     ]
    }
   ],
   "source": [
    "print(response_claude2.choices[0].message.content)\n"
   ]
  },
  {
   "cell_type": "markdown",
   "id": "696a39fa",
   "metadata": {},
   "source": [
    "# Resources\n",
    "\n",
    "- OpenAI API documentation\n",
    "- Gemini API documentation\n",
    "- Claude API documentation"
   ]
  }
 ],
 "metadata": {
  "kernelspec": {
   "display_name": "python-3.11-dev",
   "language": "python",
   "name": "python3"
  },
  "language_info": {
   "codemirror_mode": {
    "name": "ipython",
    "version": 3
   },
   "file_extension": ".py",
   "mimetype": "text/x-python",
   "name": "python",
   "nbconvert_exporter": "python",
   "pygments_lexer": "ipython3",
   "version": "3.11.13"
  }
 },
 "nbformat": 4,
 "nbformat_minor": 5
}
