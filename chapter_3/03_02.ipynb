{
 "cells": [
  {
   "cell_type": "markdown",
   "id": "432a7f56",
   "metadata": {},
   "source": [
    "## Adding Roles to the Prompt\n",
    "\n",
    "In this notebook, we will split the prompt into user and system."
   ]
  },
  {
   "cell_type": "code",
   "execution_count": 4,
   "id": "649214e9",
   "metadata": {},
   "outputs": [],
   "source": [
    "user_prompt = \"\"\"\n",
    "I want to create a SQL query that calculates the total sales by state.\n",
    "\"\"\"\n",
    "\n",
    "system_prompt = \"\"\"\n",
    "Your job is to write queries given a user’s request. \n",
    "The table name is retail_sales, and the CustState and OrderTotal columns represent \n",
    "the state name and corresponding sales in USD.\n",
    "\"\"\"\n"
   ]
  },
  {
   "cell_type": "code",
   "execution_count": 5,
   "id": "bc0f9ab6",
   "metadata": {},
   "outputs": [],
   "source": [
    "from openai import OpenAI\n",
    "import os"
   ]
  },
  {
   "cell_type": "code",
   "execution_count": 6,
   "id": "3a721dd9",
   "metadata": {},
   "outputs": [],
   "source": [
    "openai_api_key = os.environ.get(\"OPENAI_API_KEY\")\n",
    "\n",
    "max_tokens = 5000"
   ]
  },
  {
   "cell_type": "code",
   "execution_count": 7,
   "id": "f5996904",
   "metadata": {},
   "outputs": [],
   "source": [
    "client = OpenAI(api_key=openai_api_key)\n"
   ]
  },
  {
   "cell_type": "code",
   "execution_count": 8,
   "id": "6d2ba08c",
   "metadata": {},
   "outputs": [],
   "source": [
    "response = client.chat.completions.create(\n",
    "    model=\"gpt-5\",\n",
    "    messages=[\n",
    "        {\"role\": \"user\", \"content\": user_prompt},\n",
    "        {\"role\": \"system\", \"content\": system_prompt},\n",
    "    ],\n",
    "    max_completion_tokens=max_tokens,\n",
    ")\n"
   ]
  },
  {
   "cell_type": "code",
   "execution_count": 9,
   "id": "d8bdf628",
   "metadata": {},
   "outputs": [
    {
     "name": "stdout",
     "output_type": "stream",
     "text": [
      "SELECT\n",
      "  CustState,\n",
      "  SUM(OrderTotal) AS total_sales_usd\n",
      "FROM retail_sales\n",
      "GROUP BY CustState\n",
      "ORDER BY total_sales_usd DESC;\n"
     ]
    }
   ],
   "source": [
    "print(response.choices[0].message.content)"
   ]
  }
 ],
 "metadata": {
  "kernelspec": {
   "display_name": "python-3.11-dev",
   "language": "python",
   "name": "python3"
  },
  "language_info": {
   "codemirror_mode": {
    "name": "ipython",
    "version": 3
   },
   "file_extension": ".py",
   "mimetype": "text/x-python",
   "name": "python",
   "nbconvert_exporter": "python",
   "pygments_lexer": "ipython3",
   "version": "3.11.13"
  }
 },
 "nbformat": 4,
 "nbformat_minor": 5
}
