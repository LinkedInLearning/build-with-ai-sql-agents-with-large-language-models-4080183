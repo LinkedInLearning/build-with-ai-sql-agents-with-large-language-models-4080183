{
 "cells": [
  {
   "cell_type": "code",
   "execution_count": 30,
   "id": "bc0f9ab6",
   "metadata": {},
   "outputs": [],
   "source": [
    "from openai import OpenAI\n",
    "import os"
   ]
  },
  {
   "cell_type": "code",
   "execution_count": 31,
   "id": "3a721dd9",
   "metadata": {},
   "outputs": [],
   "source": [
    "openai_api_key = os.environ.get(\"OPENAI_API_KEY\")\n",
    "\n",
    "max_tokens = 5000"
   ]
  },
  {
   "cell_type": "code",
   "execution_count": 32,
   "id": "f5996904",
   "metadata": {},
   "outputs": [],
   "source": [
    "client = OpenAI(api_key=openai_api_key)\n"
   ]
  },
  {
   "cell_type": "code",
   "execution_count": 33,
   "id": "494564ad",
   "metadata": {},
   "outputs": [],
   "source": [
    "user_prompt = \"\"\"\n",
    "I want to create a SQL query that calculates the total sales by state.\n",
    "\"\"\"\n",
    "\n",
    "system_prompt = \"\"\"\n",
    "Your job is to write queries given a user’s request. \n",
    "The table name is retail_sales, and the CustState and OrderTotal columns represent \n",
    "the state name and corresponding sales in USD.\n",
    "\"\"\""
   ]
  },
  {
   "cell_type": "code",
   "execution_count": 34,
   "id": "6d2ba08c",
   "metadata": {},
   "outputs": [],
   "source": [
    "response = client.chat.completions.create(\n",
    "    model=\"gpt-5\",\n",
    "    messages=[\n",
    "        {\"role\": \"user\", \"content\": user_prompt},\n",
    "        {\"role\": \"system\", \"content\": system_prompt},\n",
    "    ],\n",
    "    max_completion_tokens=max_tokens,\n",
    ")\n"
   ]
  },
  {
   "cell_type": "code",
   "execution_count": 35,
   "id": "d8bdf628",
   "metadata": {},
   "outputs": [
    {
     "name": "stdout",
     "output_type": "stream",
     "text": [
      "SELECT\n",
      "  CustState,\n",
      "  SUM(OrderTotal) AS TotalSalesUSD\n",
      "FROM retail_sales\n",
      "WHERE CustState IS NOT NULL\n",
      "GROUP BY CustState\n",
      "ORDER BY TotalSalesUSD DESC;\n"
     ]
    }
   ],
   "source": [
    "print(response.choices[0].message.content)\n"
   ]
  }
 ],
 "metadata": {
  "language_info": {
   "name": "python"
  }
 },
 "nbformat": 4,
 "nbformat_minor": 5
}
