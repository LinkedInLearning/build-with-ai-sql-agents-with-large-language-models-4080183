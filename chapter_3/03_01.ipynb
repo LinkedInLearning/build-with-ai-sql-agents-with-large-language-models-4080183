{
 "cells": [
  {
   "cell_type": "markdown",
   "id": "03a83dd4",
   "metadata": {},
   "source": [
    "# Optimize SQL Prompts: Context Engineering for Better Query Results\n",
    "\n",
    "Previously, we tested the below prompt:\n",
    "\n",
    ">I am working with a dataset that contains information about the Red30 Tech company's product sales online. \n",
    ">I want to create a SQL query that calculates the total sales by state.\n",
    "\n",
    "While it returns a SQL code, it was generic and cannot be used out of the box as it missing critical context. \n",
    "\n",
    "In this example we will see how we can improve the LLM's response with providing additional context.\n",
    "\n",
    "Let's start by importing the openai and os libraries:\n"
   ]
  },
  {
   "cell_type": "code",
   "execution_count": 1,
   "id": "af19832d",
   "metadata": {},
   "outputs": [],
   "source": [
    "from openai import OpenAI\n",
    "import os"
   ]
  },
  {
   "cell_type": "markdown",
   "id": "59145132",
   "metadata": {},
   "source": [
    "And the API key:"
   ]
  },
  {
   "cell_type": "code",
   "execution_count": 2,
   "id": "bbe51be9",
   "metadata": {},
   "outputs": [],
   "source": [
    "openai_api_key = os.environ.get(\"OPENAI_API_KEY\")\n"
   ]
  },
  {
   "cell_type": "markdown",
   "id": "2b92f8ed",
   "metadata": {},
   "source": [
    "In this example, we will use GPT5 model and follow the same workflow as before:"
   ]
  },
  {
   "cell_type": "code",
   "execution_count": 3,
   "id": "de39d641",
   "metadata": {},
   "outputs": [],
   "source": [
    "max_tokens = 5000"
   ]
  },
  {
   "cell_type": "markdown",
   "id": "9bf07f4f",
   "metadata": {},
   "source": [
    "And set the client object:"
   ]
  },
  {
   "cell_type": "code",
   "execution_count": 4,
   "id": "258bfd3e",
   "metadata": {},
   "outputs": [],
   "source": [
    "client = OpenAI(api_key=openai_api_key)"
   ]
  },
  {
   "cell_type": "markdown",
   "id": "b51dcd32",
   "metadata": {},
   "source": [
    "Next, let's add to the original prompt additional information with the table and columns names:"
   ]
  },
  {
   "cell_type": "code",
   "execution_count": 5,
   "id": "589b2524",
   "metadata": {},
   "outputs": [],
   "source": [
    "content_prompt = \"\"\"\n",
    "I am working with a dataset that contains information about the Red30 Tech company's product sales online. \n",
    "\n",
    "I want to create a SQL query that calculates the total sales by state.\n",
    "\n",
    "The table name is retail_sales, and the CustState and OrderTotal columns represent the state name and corresponding sales in USD.\n",
    "\"\"\"\n"
   ]
  },
  {
   "cell_type": "markdown",
   "id": "39ae51f5",
   "metadata": {},
   "source": [
    "Let's now use the GPT5 model to send the prompt:"
   ]
  },
  {
   "cell_type": "code",
   "execution_count": 6,
   "id": "d690d326",
   "metadata": {},
   "outputs": [],
   "source": [
    "response = client.chat.completions.create(\n",
    "    model=\"gpt-5\",\n",
    "    messages=[{\"role\": \"user\", \"content\": content_prompt}],\n",
    "    max_completion_tokens=max_tokens,\n",
    ")\n"
   ]
  },
  {
   "cell_type": "code",
   "execution_count": 7,
   "id": "1320187a",
   "metadata": {},
   "outputs": [
    {
     "name": "stdout",
     "output_type": "stream",
     "text": [
      "Here’s a straightforward query to sum sales by state and list states from highest to lowest total:\n",
      "\n",
      "SELECT\n",
      "  CustState,\n",
      "  SUM(OrderTotal) AS total_sales_usd\n",
      "FROM retail_sales\n",
      "GROUP BY CustState\n",
      "ORDER BY total_sales_usd DESC;\n",
      "\n",
      "Optional: If some rows have a NULL state and you want to group them as “Unknown”:\n",
      "\n",
      "SELECT\n",
      "  COALESCE(CustState, 'Unknown') AS CustState,\n",
      "  SUM(OrderTotal) AS total_sales_usd\n",
      "FROM retail_sales\n",
      "GROUP BY COALESCE(CustState, 'Unknown')\n",
      "ORDER BY total_sales_usd DESC;\n"
     ]
    }
   ],
   "source": [
    "print(response.choices[0].message.content)"
   ]
  },
  {
   "cell_type": "code",
   "execution_count": 8,
   "id": "1b3c5a6a",
   "metadata": {},
   "outputs": [],
   "source": [
    "import pandas as pd\n",
    "import duckdb as db"
   ]
  },
  {
   "cell_type": "code",
   "execution_count": 9,
   "id": "61f97048",
   "metadata": {},
   "outputs": [],
   "source": [
    "retail_sales = pd.read_csv(\"../data/Red30 Tech US online retail sales.csv\")"
   ]
  },
  {
   "cell_type": "code",
   "execution_count": 10,
   "id": "ee82dd24",
   "metadata": {},
   "outputs": [],
   "source": [
    "query = \"\"\"\n",
    "SELECT\n",
    "  CustState,\n",
    "  SUM(OrderTotal) AS total_sales_usd\n",
    "FROM retail_sales\n",
    "GROUP BY CustState\n",
    "ORDER BY total_sales_usd DESC;\n",
    "\"\"\""
   ]
  },
  {
   "cell_type": "code",
   "execution_count": 11,
   "id": "a21ca7f2",
   "metadata": {},
   "outputs": [
    {
     "data": {
      "text/plain": [
       "┌────────────────┬────────────────────┐\n",
       "│   CustState    │  total_sales_usd   │\n",
       "│    varchar     │       double       │\n",
       "├────────────────┼────────────────────┤\n",
       "│ New York       │  616925.8400000001 │\n",
       "│ California     │  540285.5199999997 │\n",
       "│ Florida        │  394483.7399999998 │\n",
       "│ Texas          │ 349925.48000000004 │\n",
       "│ North Carolina │  345118.2600000001 │\n",
       "│ Pennsylvania   │ 290120.09000000014 │\n",
       "│ Minnesota      │ 267308.95000000007 │\n",
       "│ Washington     │ 257140.79999999993 │\n",
       "│ Virginia       │ 248797.89000000004 │\n",
       "│ Georgia        │ 237607.26000000004 │\n",
       "│    ·           │          ·         │\n",
       "│    ·           │          ·         │\n",
       "│    ·           │          ·         │\n",
       "│ New Mexico     │ 36696.380000000005 │\n",
       "│ New Jersey     │            35971.9 │\n",
       "│ North Dakota   │            29907.5 │\n",
       "│ West Virginia  │           23967.97 │\n",
       "│ Nebraska       │           22604.36 │\n",
       "│ Wyoming        │  9712.550000000001 │\n",
       "│ Wisconsin      │  7345.029999999999 │\n",
       "│ South Dakota   │            4071.62 │\n",
       "│ VIrginia       │              189.0 │\n",
       "│ Maine          │               49.0 │\n",
       "├────────────────┴────────────────────┤\n",
       "│ 50 rows (20 shown)        2 columns │\n",
       "└─────────────────────────────────────┘"
      ]
     },
     "execution_count": 11,
     "metadata": {},
     "output_type": "execute_result"
    }
   ],
   "source": [
    "db.sql(query)\n"
   ]
  }
 ],
 "metadata": {
  "kernelspec": {
   "display_name": "python-3.11-dev",
   "language": "python",
   "name": "python3"
  },
  "language_info": {
   "codemirror_mode": {
    "name": "ipython",
    "version": 3
   },
   "file_extension": ".py",
   "mimetype": "text/x-python",
   "name": "python",
   "nbconvert_exporter": "python",
   "pygments_lexer": "ipython3",
   "version": "3.11.13"
  }
 },
 "nbformat": 4,
 "nbformat_minor": 5
}
