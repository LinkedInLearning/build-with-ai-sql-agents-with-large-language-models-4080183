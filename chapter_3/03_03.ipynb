{
 "cells": [
  {
   "cell_type": "code",
   "execution_count": 15,
   "id": "0d09ec92",
   "metadata": {},
   "outputs": [],
   "source": [
    "question = \"What are the total sales by state?\""
   ]
  },
  {
   "cell_type": "code",
   "execution_count": 16,
   "id": "2cbfbe5f",
   "metadata": {},
   "outputs": [],
   "source": [
    "import pandas as pd\n",
    "import duckdb as db\n",
    "from openai import OpenAI\n",
    "import os"
   ]
  },
  {
   "cell_type": "code",
   "execution_count": 17,
   "id": "e5ff6a9f",
   "metadata": {},
   "outputs": [],
   "source": [
    "retail_sales = pd.read_csv(\"../data/Red30 Tech US online retail sales.csv\")"
   ]
  },
  {
   "cell_type": "code",
   "execution_count": 18,
   "id": "378f7a8e",
   "metadata": {},
   "outputs": [
    {
     "data": {
      "text/plain": [
       "┌──────────────┬─────────────┬─────────┬─────────┬─────────┬─────────┐\n",
       "│ column_name  │ column_type │  null   │   key   │ default │  extra  │\n",
       "│   varchar    │   varchar   │ varchar │ varchar │ varchar │ varchar │\n",
       "├──────────────┼─────────────┼─────────┼─────────┼─────────┼─────────┤\n",
       "│ OrderNum     │ BIGINT      │ YES     │ NULL    │ NULL    │ NULL    │\n",
       "│ OrderDate    │ VARCHAR     │ YES     │ NULL    │ NULL    │ NULL    │\n",
       "│ OrderType    │ VARCHAR     │ YES     │ NULL    │ NULL    │ NULL    │\n",
       "│ CustomerType │ VARCHAR     │ YES     │ NULL    │ NULL    │ NULL    │\n",
       "│ CustName     │ VARCHAR     │ YES     │ NULL    │ NULL    │ NULL    │\n",
       "│ CustState    │ VARCHAR     │ YES     │ NULL    │ NULL    │ NULL    │\n",
       "│ ProdCategory │ VARCHAR     │ YES     │ NULL    │ NULL    │ NULL    │\n",
       "│ ProdNumber   │ VARCHAR     │ YES     │ NULL    │ NULL    │ NULL    │\n",
       "│ ProdName     │ VARCHAR     │ YES     │ NULL    │ NULL    │ NULL    │\n",
       "│ Quantity     │ BIGINT      │ YES     │ NULL    │ NULL    │ NULL    │\n",
       "│ Price        │ DOUBLE      │ YES     │ NULL    │ NULL    │ NULL    │\n",
       "│ Discount     │ DOUBLE      │ YES     │ NULL    │ NULL    │ NULL    │\n",
       "│ OrderTotal   │ DOUBLE      │ YES     │ NULL    │ NULL    │ NULL    │\n",
       "├──────────────┴─────────────┴─────────┴─────────┴─────────┴─────────┤\n",
       "│ 13 rows                                                  6 columns │\n",
       "└────────────────────────────────────────────────────────────────────┘"
      ]
     },
     "execution_count": 18,
     "metadata": {},
     "output_type": "execute_result"
    }
   ],
   "source": [
    "tbl_name = \"retail_sales\"\n",
    "\n",
    "tbl_description = db.sql(\"DESCRIBE SELECT * FROM \" + tbl_name + \";\")\n",
    "tbl_description"
   ]
  },
  {
   "cell_type": "code",
   "execution_count": 19,
   "id": "5e4b3c35",
   "metadata": {},
   "outputs": [],
   "source": [
    "col_attr = tbl_description.df()[[\"column_name\", \"column_type\"]]\n",
    "col_attr[\"column_joint\"] = col_attr[\"column_name\"] + \" \" + col_attr[\"column_type\"]\n",
    "col_names = (\n",
    "    str(list(col_attr[\"column_joint\"].values))\n",
    "    .replace(\"[\", \"\")\n",
    "    .replace(\"]\", \"\")\n",
    "    .replace(\"'\", \"\")\n",
    ")\n"
   ]
  },
  {
   "cell_type": "code",
   "execution_count": 20,
   "id": "1ebe0ecf",
   "metadata": {},
   "outputs": [
    {
     "name": "stdout",
     "output_type": "stream",
     "text": [
      "OrderNum BIGINT, OrderDate VARCHAR, OrderType VARCHAR, CustomerType VARCHAR, CustName VARCHAR, CustState VARCHAR, ProdCategory VARCHAR, ProdNumber VARCHAR, ProdName VARCHAR, Quantity BIGINT, Price DOUBLE, Discount DOUBLE, OrderTotal DOUBLE\n"
     ]
    }
   ],
   "source": [
    "print(col_names)"
   ]
  },
  {
   "cell_type": "code",
   "execution_count": 21,
   "id": "d6c92626",
   "metadata": {},
   "outputs": [],
   "source": [
    "system_template = \"\"\"\n",
    "Given the following SQL table, your job is to write queries given a user’s request. \\n\n",
    "CREATE TABLE {} ({}) \\n\n",
    "\"\"\"\n"
   ]
  },
  {
   "cell_type": "code",
   "execution_count": 22,
   "id": "eb65fda6",
   "metadata": {},
   "outputs": [],
   "source": [
    "user_template = \"Write a SQL query that returns - {}\"\n"
   ]
  },
  {
   "cell_type": "code",
   "execution_count": 23,
   "id": "e833826c",
   "metadata": {},
   "outputs": [
    {
     "name": "stdout",
     "output_type": "stream",
     "text": [
      "\n",
      "Given the following SQL table, your job is to write queries given a user’s request. \n",
      "\n",
      "CREATE TABLE retail_sales (OrderNum BIGINT, OrderDate VARCHAR, OrderType VARCHAR, CustomerType VARCHAR, CustName VARCHAR, CustState VARCHAR, ProdCategory VARCHAR, ProdNumber VARCHAR, ProdName VARCHAR, Quantity BIGINT, Price DOUBLE, Discount DOUBLE, OrderTotal DOUBLE) \n",
      "\n",
      "\n"
     ]
    }
   ],
   "source": [
    "system = system_template.format(tbl_name, col_names)\n",
    "print(system)\n"
   ]
  },
  {
   "cell_type": "code",
   "execution_count": 24,
   "id": "fc461819",
   "metadata": {},
   "outputs": [
    {
     "name": "stdout",
     "output_type": "stream",
     "text": [
      "Write a SQL query that returns - What are the total sales by state?\n"
     ]
    }
   ],
   "source": [
    "user = user_template.format(question)\n",
    "print(user)\n"
   ]
  },
  {
   "cell_type": "code",
   "execution_count": 25,
   "id": "46a9a66f",
   "metadata": {},
   "outputs": [],
   "source": [
    "openai_api_key = os.environ.get(\"OPENAI_API_KEY\")\n",
    "max_tokens = 5000\n",
    "client = OpenAI(api_key=openai_api_key)"
   ]
  },
  {
   "cell_type": "code",
   "execution_count": 26,
   "id": "9ab935b7",
   "metadata": {},
   "outputs": [],
   "source": [
    "response = client.chat.completions.create(\n",
    "    model=\"gpt-5\",\n",
    "    messages=[{\"role\": \"system\", \"content\": system}, \n",
    "              {\"role\": \"user\", \"content\": user}],\n",
    "    max_completion_tokens=max_tokens,\n",
    ")\n"
   ]
  },
  {
   "cell_type": "code",
   "execution_count": 27,
   "id": "fe460ba1",
   "metadata": {},
   "outputs": [
    {
     "name": "stdout",
     "output_type": "stream",
     "text": [
      "SELECT\n",
      "  CustState,\n",
      "  SUM(OrderTotal) AS total_sales\n",
      "FROM retail_sales\n",
      "GROUP BY CustState\n",
      "ORDER BY total_sales DESC;\n"
     ]
    }
   ],
   "source": [
    "print(response.choices[0].message.content)\n"
   ]
  },
  {
   "cell_type": "code",
   "execution_count": 28,
   "id": "d06929fb",
   "metadata": {},
   "outputs": [],
   "source": [
    "query = \"\"\"\n",
    "SELECT\n",
    "  CustState,\n",
    "  SUM(OrderTotal) AS total_sales\n",
    "FROM retail_sales\n",
    "GROUP BY CustState\n",
    "ORDER BY total_sales DESC;\n",
    "\"\"\"\n"
   ]
  },
  {
   "cell_type": "code",
   "execution_count": 29,
   "id": "2552aba4",
   "metadata": {},
   "outputs": [
    {
     "data": {
      "text/plain": [
       "┌────────────────┬────────────────────┐\n",
       "│   CustState    │    total_sales     │\n",
       "│    varchar     │       double       │\n",
       "├────────────────┼────────────────────┤\n",
       "│ New York       │  616925.8400000001 │\n",
       "│ California     │  540285.5199999997 │\n",
       "│ Florida        │  394483.7399999998 │\n",
       "│ Texas          │ 349925.48000000004 │\n",
       "│ North Carolina │  345118.2600000001 │\n",
       "│ Pennsylvania   │ 290120.09000000014 │\n",
       "│ Minnesota      │ 267308.95000000007 │\n",
       "│ Washington     │ 257140.79999999993 │\n",
       "│ Virginia       │ 248797.89000000004 │\n",
       "│ Georgia        │ 237607.26000000004 │\n",
       "│    ·           │          ·         │\n",
       "│    ·           │          ·         │\n",
       "│    ·           │          ·         │\n",
       "│ New Mexico     │ 36696.380000000005 │\n",
       "│ New Jersey     │            35971.9 │\n",
       "│ North Dakota   │            29907.5 │\n",
       "│ West Virginia  │           23967.97 │\n",
       "│ Nebraska       │           22604.36 │\n",
       "│ Wyoming        │  9712.550000000001 │\n",
       "│ Wisconsin      │  7345.029999999999 │\n",
       "│ South Dakota   │            4071.62 │\n",
       "│ VIrginia       │              189.0 │\n",
       "│ Maine          │               49.0 │\n",
       "├────────────────┴────────────────────┤\n",
       "│ 50 rows (20 shown)        2 columns │\n",
       "└─────────────────────────────────────┘"
      ]
     },
     "execution_count": 29,
     "metadata": {},
     "output_type": "execute_result"
    }
   ],
   "source": [
    "db.sql(query)\n"
   ]
  }
 ],
 "metadata": {
  "kernelspec": {
   "display_name": "python-3.11-dev",
   "language": "python",
   "name": "python3"
  },
  "language_info": {
   "codemirror_mode": {
    "name": "ipython",
    "version": 3
   },
   "file_extension": ".py",
   "mimetype": "text/x-python",
   "name": "python",
   "nbconvert_exporter": "python",
   "pygments_lexer": "ipython3",
   "version": "3.11.13"
  }
 },
 "nbformat": 4,
 "nbformat_minor": 5
}
