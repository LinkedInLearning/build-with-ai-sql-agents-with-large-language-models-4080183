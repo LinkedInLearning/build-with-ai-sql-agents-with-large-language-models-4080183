{
 "cells": [
  {
   "cell_type": "code",
   "execution_count": 36,
   "id": "54209b56",
   "metadata": {},
   "outputs": [],
   "source": [
    "import pandas as pd\n",
    "import duckdb as db\n",
    "from openai import OpenAI\n",
    "import os"
   ]
  },
  {
   "cell_type": "code",
   "execution_count": 37,
   "id": "957172fd",
   "metadata": {},
   "outputs": [],
   "source": [
    "user_template = \"Write a SQL query that returns - {}\"\n",
    "\n",
    "system_template = \"\"\"\n",
    "Given the following SQL table, your job is to write queries based on a user's request. \\n\n",
    "CREATE TABLE {} ({}) \\n\n",
    "\"\"\"\n",
    "\n",
    "retail_sales = pd.read_csv(\"../data/Red30 Tech US online retail sales.csv\")"
   ]
  },
  {
   "cell_type": "code",
   "execution_count": 38,
   "id": "5ba352a8",
   "metadata": {},
   "outputs": [],
   "source": [
    "question = \"What are the total sales by state?\"\n",
    "\n",
    "tbl_name = \"retail_sales\"\n",
    "\n",
    "tbl_description = db.sql(\"DESCRIBE SELECT * FROM \" + tbl_name + \";\")\n",
    "col_attr = tbl_description.df()[[\"column_name\", \"column_type\"]]\n",
    "col_attr[\"column_joint\"] = col_attr[\"column_name\"] + \" \" + col_attr[\"column_type\"]\n",
    "tbl_schema = (\n",
    "    str(list(col_attr[\"column_joint\"].values))\n",
    "    .replace(\"[\", \"\")\n",
    "    .replace(\"]\", \"\")\n",
    "    .replace(\"'\", \"\")\n",
    ")"
   ]
  },
  {
   "cell_type": "code",
   "execution_count": 39,
   "id": "f8f9dfaa",
   "metadata": {},
   "outputs": [],
   "source": [
    "user = user_template.format(question)\n",
    "system = system_template.format(tbl_name, tbl_schema)"
   ]
  },
  {
   "cell_type": "code",
   "execution_count": 40,
   "id": "87643874",
   "metadata": {},
   "outputs": [],
   "source": [
    "gemini_api_key = os.environ.get(\"GEMINI_API_KEY\")\n",
    "\n",
    "gemini_client = OpenAI(\n",
    "    api_key=gemini_api_key,\n",
    "    base_url=\"https://generativelanguage.googleapis.com/v1beta/openai/\",\n",
    ")\n",
    "\n",
    "temperature = 0\n",
    "max_tokens = 5000\n",
    "\n",
    "response = gemini_client.chat.completions.create(\n",
    "    model=\"gemini-2.5-pro\",\n",
    "    messages=[{\"role\": \"system\", \"content\": system}, {\"role\": \"user\", \"content\": user}],\n",
    "    temperature=temperature,\n",
    "    max_completion_tokens=max_tokens,\n",
    ")"
   ]
  },
  {
   "cell_type": "code",
   "execution_count": 41,
   "id": "3b97c85f",
   "metadata": {},
   "outputs": [
    {
     "name": "stdout",
     "output_type": "stream",
     "text": [
      "```sql\n",
      "SELECT\n",
      "  CustState,\n",
      "  SUM(OrderTotal) AS TotalSales\n",
      "FROM retail_sales\n",
      "GROUP BY\n",
      "  CustState\n",
      "ORDER BY\n",
      "  TotalSales DESC;\n",
      "```\n"
     ]
    }
   ],
   "source": [
    "print(response.choices[0].message.content)\n"
   ]
  },
  {
   "cell_type": "code",
   "execution_count": 42,
   "id": "c4f5669c",
   "metadata": {},
   "outputs": [
    {
     "ename": "ParserException",
     "evalue": "Parser Error: syntax error at or near \"```\"",
     "output_type": "error",
     "traceback": [
      "\u001b[31m---------------------------------------------------------------------------\u001b[39m",
      "\u001b[31mParserException\u001b[39m                           Traceback (most recent call last)",
      "\u001b[36mCell\u001b[39m\u001b[36m \u001b[39m\u001b[32mIn[42]\u001b[39m\u001b[32m, line 3\u001b[39m\n\u001b[32m      1\u001b[39m query = response.choices[\u001b[32m0\u001b[39m].message.content\n\u001b[32m----> \u001b[39m\u001b[32m3\u001b[39m \u001b[43mdb\u001b[49m\u001b[43m.\u001b[49m\u001b[43msql\u001b[49m\u001b[43m(\u001b[49m\u001b[43mquery\u001b[49m\u001b[43m)\u001b[49m\n",
      "\u001b[31mParserException\u001b[39m: Parser Error: syntax error at or near \"```\""
     ]
    }
   ],
   "source": [
    "query = response.choices[0].message.content\n",
    "\n",
    "db.sql(query)"
   ]
  },
  {
   "cell_type": "code",
   "execution_count": 43,
   "id": "0b5dc4c1",
   "metadata": {},
   "outputs": [],
   "source": [
    "import re\n",
    "\n",
    "\n",
    "def is_markdown_code_chunk(text):\n",
    "    \"\"\"\n",
    "    Checks if the given text is in Markdown code chunk format.\n",
    "\n",
    "    Args:\n",
    "        text (str): The text to check.\n",
    "\n",
    "    Returns:\n",
    "        bool: True if the text is in Markdown code chunk format, False otherwise.\n",
    "    \"\"\"\n",
    "    pattern = r\"```[^`]*```\"\n",
    "    return bool(re.search(pattern, text, re.DOTALL))\n",
    "\n",
    "\n",
    "def extract_code_from_markdown(markdown_text):\n",
    "    \"\"\"\n",
    "    Extracts code from a Markdown code chunk.\n",
    "\n",
    "    Args:\n",
    "        markdown_text (str): The Markdown text containing the code chunk.\n",
    "\n",
    "    Returns:\n",
    "        str: The extracted code.\n",
    "    \"\"\"\n",
    "    pattern = r\"```(.*?)\\n(?P<code>.*?)\\n```\"\n",
    "    match = re.search(pattern, markdown_text, re.DOTALL)\n",
    "    if match:\n",
    "        return match.group(\"code\")\n",
    "    else:\n",
    "        return None\n"
   ]
  },
  {
   "cell_type": "code",
   "execution_count": 53,
   "id": "c02bbdff",
   "metadata": {},
   "outputs": [
    {
     "name": "stdout",
     "output_type": "stream",
     "text": [
      "SELECT\n",
      "  CustState,\n",
      "  SUM(OrderTotal) AS TotalSales\n",
      "FROM retail_sales\n",
      "GROUP BY\n",
      "  CustState\n",
      "ORDER BY\n",
      "  TotalSales DESC;\n"
     ]
    }
   ],
   "source": [
    "if is_markdown_code_chunk(text=query):\n",
    "    clean_query = extract_code_from_markdown(markdown_text=query)\n",
    "else:\n",
    "    clean_query = query\n",
    "\n",
    "print(clean_query)\n"
   ]
  },
  {
   "cell_type": "code",
   "execution_count": 45,
   "id": "98359cc1",
   "metadata": {},
   "outputs": [
    {
     "data": {
      "text/plain": [
       "┌────────────────┬────────────────────┐\n",
       "│   CustState    │     TotalSales     │\n",
       "│    varchar     │       double       │\n",
       "├────────────────┼────────────────────┤\n",
       "│ New York       │  616925.8400000001 │\n",
       "│ California     │  540285.5199999997 │\n",
       "│ Florida        │  394483.7399999998 │\n",
       "│ Texas          │ 349925.48000000004 │\n",
       "│ North Carolina │  345118.2600000001 │\n",
       "│ Pennsylvania   │ 290120.09000000014 │\n",
       "│ Minnesota      │ 267308.95000000007 │\n",
       "│ Washington     │ 257140.79999999993 │\n",
       "│ Virginia       │ 248797.89000000004 │\n",
       "│ Georgia        │ 237607.26000000004 │\n",
       "│    ·           │          ·         │\n",
       "│    ·           │          ·         │\n",
       "│    ·           │          ·         │\n",
       "│ New Mexico     │ 36696.380000000005 │\n",
       "│ New Jersey     │            35971.9 │\n",
       "│ North Dakota   │            29907.5 │\n",
       "│ West Virginia  │           23967.97 │\n",
       "│ Nebraska       │           22604.36 │\n",
       "│ Wyoming        │  9712.550000000001 │\n",
       "│ Wisconsin      │  7345.029999999999 │\n",
       "│ South Dakota   │            4071.62 │\n",
       "│ VIrginia       │              189.0 │\n",
       "│ Maine          │               49.0 │\n",
       "├────────────────┴────────────────────┤\n",
       "│ 50 rows (20 shown)        2 columns │\n",
       "└─────────────────────────────────────┘"
      ]
     },
     "execution_count": 45,
     "metadata": {},
     "output_type": "execute_result"
    }
   ],
   "source": [
    "db.sql(clean_query)\n"
   ]
  },
  {
   "cell_type": "code",
   "execution_count": 50,
   "id": "8e8a5c7c",
   "metadata": {},
   "outputs": [],
   "source": [
    "system_template2 = \"\"\"\n",
    "Given the following SQL table, your job is to write queries based on a user's request. \\n\n",
    "Return just the SQL query as plan text, without additional text and don't use markdown format. \\n\n",
    "CREATE TABLE {} ({}) \\n\n",
    "\"\"\"\n",
    "\n",
    "system2 = system_template2.format(tbl_name, tbl_schema)\n",
    "\n",
    "\n",
    "response2 = gemini_client.chat.completions.create(\n",
    "    model=\"gemini-2.5-pro\",\n",
    "    messages=[{\"role\": \"system\", \"content\": system2}, {\"role\": \"user\", \"content\": user}],\n",
    "    temperature=temperature,\n",
    "    max_completion_tokens=max_tokens,\n",
    ")\n"
   ]
  },
  {
   "cell_type": "code",
   "execution_count": 51,
   "id": "87d5e3ce",
   "metadata": {},
   "outputs": [
    {
     "name": "stdout",
     "output_type": "stream",
     "text": [
      "SELECT CustState, SUM(OrderTotal) FROM retail_sales GROUP BY CustState\n"
     ]
    }
   ],
   "source": [
    "print(response2.choices[0].message.content)\n"
   ]
  },
  {
   "cell_type": "code",
   "execution_count": 52,
   "id": "1d183b71",
   "metadata": {},
   "outputs": [
    {
     "data": {
      "text/plain": [
       "┌──────────────────────┬────────────────────┐\n",
       "│      CustState       │  sum(OrderTotal)   │\n",
       "│       varchar        │       double       │\n",
       "├──────────────────────┼────────────────────┤\n",
       "│ Virginia             │ 248797.89000000004 │\n",
       "│ Hawaii               │           61579.92 │\n",
       "│ District of Columbia │ 131662.74000000002 │\n",
       "│ Louisiana            │ 113639.52999999996 │\n",
       "│ Washington           │ 257140.79999999993 │\n",
       "│ Connecticut          │ 57114.099999999984 │\n",
       "│ Montana              │ 51841.609999999986 │\n",
       "│ Minnesota            │ 267308.95000000007 │\n",
       "│ New Hampshire        │ 59687.459999999985 │\n",
       "│ Mississippi          │           78850.98 │\n",
       "│     ·                │               ·    │\n",
       "│     ·                │               ·    │\n",
       "│     ·                │               ·    │\n",
       "│ New Mexico           │ 36696.380000000005 │\n",
       "│ Iowa                 │  68893.29000000001 │\n",
       "│ Kentucky             │          115596.76 │\n",
       "│ Wisconsin            │  7345.029999999999 │\n",
       "│ New York             │  616925.8400000001 │\n",
       "│ Colorado             │ 174726.32000000004 │\n",
       "│ Illinois             │  68126.69999999998 │\n",
       "│ Michigan             │          154327.39 │\n",
       "│ Georgia              │ 237607.26000000004 │\n",
       "│ Massachusetts        │  152747.8300000001 │\n",
       "├──────────────────────┴────────────────────┤\n",
       "│ 50 rows (20 shown)              2 columns │\n",
       "└───────────────────────────────────────────┘"
      ]
     },
     "execution_count": 52,
     "metadata": {},
     "output_type": "execute_result"
    }
   ],
   "source": [
    "query2 = response2.choices[0].message.content\n",
    "db.sql(query2)"
   ]
  }
 ],
 "metadata": {
  "kernelspec": {
   "display_name": "python-3.11-dev",
   "language": "python",
   "name": "python3"
  },
  "language_info": {
   "codemirror_mode": {
    "name": "ipython",
    "version": 3
   },
   "file_extension": ".py",
   "mimetype": "text/x-python",
   "name": "python",
   "nbconvert_exporter": "python",
   "pygments_lexer": "ipython3",
   "version": "3.11.13"
  }
 },
 "nbformat": 4,
 "nbformat_minor": 5
}
