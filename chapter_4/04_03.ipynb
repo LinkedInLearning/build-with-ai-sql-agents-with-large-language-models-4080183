{
 "cells": [
  {
   "cell_type": "markdown",
   "id": "a9f3f8ad",
   "metadata": {},
   "source": [
    "## The API Handler\n",
    "\n",
    "<br>\n",
    "<figure>\n",
    " <img src=\"assets/prompt.png\" width=\"100%\" align=\"center\"/></a>\n",
    "<figcaption> SQL AI Agent Architecture </figcaption>\n",
    "</figure>\n",
    "\n",
    "<br>\n",
    "\n",
    "Below is the `create_message` function blueprint. It has the following two arguments:\n",
    "- tbl_name - the table name\n",
    "- user_request - the user request or question\n",
    "\n",
    "It returns an object with the user and system prompts.\n",
    "\n",
    "\n",
    "<br>\n",
    "<figure>\n",
    " <img src=\"assets/prompt_handler.png\" width=\"70%\" align=\"center\"/></a>\n",
    "<figcaption> The Prompt Handler </figcaption>\n",
    "</figure>\n",
    "\n",
    "<br>"
   ]
  },
  {
   "cell_type": "code",
   "execution_count": 1,
   "id": "01fe33f2",
   "metadata": {},
   "outputs": [],
   "source": [
    "import sys\n",
    "import os\n",
    "import pandas as pd\n",
    "import duckdb as db\n",
    "sys.path.append(\"../\")\n",
    "from sql_ai_agent import api_handler as ah"
   ]
  },
  {
   "cell_type": "code",
   "execution_count": 2,
   "id": "617e4d2c",
   "metadata": {},
   "outputs": [],
   "source": [
    "base_url = \"https://generativelanguage.googleapis.com/v1beta/openai/\"\n",
    "gemini_api_key = os.environ.get(\"GEMINI_API_KEY\")"
   ]
  },
  {
   "cell_type": "code",
   "execution_count": 3,
   "id": "a735177d",
   "metadata": {},
   "outputs": [
    {
     "data": {
      "text/plain": [
       "<duckdb.duckdb.DuckDBPyConnection at 0xffff5cb616b0>"
      ]
     },
     "execution_count": 3,
     "metadata": {},
     "output_type": "execute_result"
    }
   ],
   "source": [
    "retail_sales = pd.read_csv(\"../data/Red30 Tech US online retail sales.csv\")\n",
    "\n",
    "db.register(\"retail_sales\", retail_sales)\n"
   ]
  },
  {
   "cell_type": "code",
   "execution_count": 4,
   "id": "15404225",
   "metadata": {},
   "outputs": [],
   "source": [
    "sql_agent = ah.SqlAgent(api_key = gemini_api_key, \n",
    "                        base_url = base_url, \n",
    "                        model = \"gemini-2.5-pro\", \n",
    "                        tbl_name = \"retail_sales\",\n",
    "                        max_token= 5000)\n",
    "\n"
   ]
  },
  {
   "cell_type": "code",
   "execution_count": 5,
   "id": "d4d2e05d",
   "metadata": {},
   "outputs": [
    {
     "name": "stdout",
     "output_type": "stream",
     "text": [
      "Given the following SQL table, your job is to write queries given a user’s request. Return just the SQL query as plain text, without additional text, and don't use markdown format.\n",
      "\n",
      "CREATE TABLE retail_sales (OrderNum BIGINT, OrderDate VARCHAR, OrderType VARCHAR, CustomerType VARCHAR, CustName VARCHAR, CustState VARCHAR, ProdCategory VARCHAR, ProdNumber VARCHAR, ProdName VARCHAR, Quantity BIGINT, Price DOUBLE, Discount DOUBLE, OrderTotal DOUBLE)\n",
      "\n"
     ]
    }
   ],
   "source": [
    "print(sql_agent.system.system)\n"
   ]
  },
  {
   "cell_type": "code",
   "execution_count": 6,
   "id": "1f204781",
   "metadata": {},
   "outputs": [],
   "source": [
    "question = \"What are the total sales by state?\"\n",
    "\n",
    "sql_agent.send_prompt(question=question)"
   ]
  },
  {
   "cell_type": "code",
   "execution_count": 7,
   "id": "608f0345",
   "metadata": {},
   "outputs": [
    {
     "name": "stdout",
     "output_type": "stream",
     "text": [
      "SELECT CustState, SUM(OrderTotal) FROM retail_sales GROUP BY CustState\n"
     ]
    }
   ],
   "source": [
    "print(sql_agent.query)"
   ]
  },
  {
   "cell_type": "code",
   "execution_count": 8,
   "id": "75a8221c",
   "metadata": {},
   "outputs": [],
   "source": [
    "sql_agent.ask_question(question=question)"
   ]
  },
  {
   "cell_type": "code",
   "execution_count": 9,
   "id": "9257efbf",
   "metadata": {},
   "outputs": [
    {
     "data": {
      "text/plain": [
       "┌────────────────┬────────────────────┐\n",
       "│   CustState    │  sum(OrderTotal)   │\n",
       "│    varchar     │       double       │\n",
       "├────────────────┼────────────────────┤\n",
       "│ Texas          │ 349925.48000000004 │\n",
       "│ West Virginia  │           23967.97 │\n",
       "│ Alabama        │ 137984.65000000005 │\n",
       "│ South Carolina │  55752.65999999998 │\n",
       "│ New Jersey     │            35971.9 │\n",
       "│ Tennessee      │ 206698.71999999994 │\n",
       "│ Oregon         │ 113873.62000000001 │\n",
       "│ Nebraska       │           22604.36 │\n",
       "│ North Dakota   │            29907.5 │\n",
       "│ VIrginia       │              189.0 │\n",
       "│    ·           │                ·   │\n",
       "│    ·           │                ·   │\n",
       "│    ·           │                ·   │\n",
       "│ Delaware       │           38611.46 │\n",
       "│ Maine          │               49.0 │\n",
       "│ Louisiana      │ 113639.52999999996 │\n",
       "│ Washington     │ 257140.79999999993 │\n",
       "│ Connecticut    │ 57114.099999999984 │\n",
       "│ Montana        │ 51841.609999999986 │\n",
       "│ New York       │  616925.8400000001 │\n",
       "│ Colorado       │ 174726.32000000004 │\n",
       "│ Illinois       │  68126.69999999998 │\n",
       "│ Michigan       │          154327.39 │\n",
       "├────────────────┴────────────────────┤\n",
       "│ 50 rows (20 shown)        2 columns │\n",
       "└─────────────────────────────────────┘"
      ]
     },
     "execution_count": 9,
     "metadata": {},
     "output_type": "execute_result"
    }
   ],
   "source": [
    "sql_agent.data"
   ]
  }
 ],
 "metadata": {
  "kernelspec": {
   "display_name": "python-3.11-dev",
   "language": "python",
   "name": "python3"
  },
  "language_info": {
   "codemirror_mode": {
    "name": "ipython",
    "version": 3
   },
   "file_extension": ".py",
   "mimetype": "text/x-python",
   "name": "python",
   "nbconvert_exporter": "python",
   "pygments_lexer": "ipython3",
   "version": "3.11.13"
  }
 },
 "nbformat": 4,
 "nbformat_minor": 5
}
