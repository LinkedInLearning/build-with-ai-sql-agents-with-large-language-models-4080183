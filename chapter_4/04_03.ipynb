{
 "cells": [
  {
   "cell_type": "markdown",
   "id": "a9f3f8ad",
   "metadata": {},
   "source": [
    "## The API Handler\n",
    "\n",
    "<br>\n",
    "<figure>\n",
    " <img src=\"assets/api.png\" width=\"100%\" align=\"center\"/></a>\n",
    "<figcaption> SQL AI Agent Architecture </figcaption>\n",
    "</figure>\n"
   ]
  },
  {
   "cell_type": "code",
   "execution_count": 2,
   "id": "01fe33f2",
   "metadata": {},
   "outputs": [],
   "source": [
    "import pandas as pd\n",
    "import duckdb as db\n",
    "import os\n",
    "import sys\n",
    "\n",
    "sys.path.append(\"../\")\n",
    "from sql_ai_agent.api_handler import SqlAgent\n"
   ]
  },
  {
   "cell_type": "code",
   "execution_count": 3,
   "id": "d60654b0",
   "metadata": {},
   "outputs": [
    {
     "data": {
      "text/plain": [
       "<duckdb.duckdb.DuckDBPyConnection at 0xffff22360770>"
      ]
     },
     "execution_count": 3,
     "metadata": {},
     "output_type": "execute_result"
    }
   ],
   "source": [
    "retail_sales = pd.read_csv(\"../data/Red30 Tech US online retail sales.csv\")\n",
    "db.register(\"retail_sales\", retail_sales)"
   ]
  },
  {
   "cell_type": "code",
   "execution_count": 4,
   "id": "a735177d",
   "metadata": {},
   "outputs": [],
   "source": [
    "openai_base_url = \"https://api.openai.com/v1/\"\n",
    "openai_api_key = os.environ.get(\"OPENAI_API_KEY\")\n",
    "\n",
    "my_agent = SqlAgent(\n",
    "    api_key=openai_api_key,\n",
    "    base_url=openai_base_url,\n",
    "    model=\"gpt-5\",\n",
    "    tbl_name=\"retail_sales\",\n",
    "    max_token=5000,\n",
    ")\n"
   ]
  },
  {
   "cell_type": "code",
   "execution_count": 7,
   "id": "0c5dc0f4",
   "metadata": {},
   "outputs": [
    {
     "name": "stdout",
     "output_type": "stream",
     "text": [
      "<openai.OpenAI object at 0xffff217fee90>\n"
     ]
    }
   ],
   "source": [
    "print(my_agent.client)"
   ]
  },
  {
   "cell_type": "code",
   "execution_count": 5,
   "id": "8c8afbf4",
   "metadata": {},
   "outputs": [
    {
     "data": {
      "text/plain": [
       "<bound method SqlAgent.send_prompt of <sql_ai_agent.api_handler.SqlAgent object at 0xffff20d0c650>>"
      ]
     },
     "execution_count": 5,
     "metadata": {},
     "output_type": "execute_result"
    }
   ],
   "source": [
    "my_agent.send_prompt"
   ]
  },
  {
   "cell_type": "code",
   "execution_count": 9,
   "id": "09da1a46",
   "metadata": {},
   "outputs": [
    {
     "name": "stdout",
     "output_type": "stream",
     "text": [
      "SELECT ProdCategory, SUM(OrderTotal) AS total_sales\n",
      "FROM retail_sales\n",
      "WHERE CustState = 'California'\n",
      "GROUP BY ProdCategory\n",
      "ORDER BY total_sales DESC;\n",
      "┌─────────────────┬────────────────────┐\n",
      "│  ProdCategory   │    total_sales     │\n",
      "│     varchar     │       double       │\n",
      "├─────────────────┼────────────────────┤\n",
      "│ Robots          │  271672.4000000001 │\n",
      "│ Robot Kits      │ 102867.59999999996 │\n",
      "│ Drones          │            61494.0 │\n",
      "│ Drone Kits      │  48553.21999999999 │\n",
      "│ Training Videos │  31583.04000000002 │\n",
      "│ eBooks          │           16709.36 │\n",
      "│ Blueprints      │  7405.899999999994 │\n",
      "└─────────────────┴────────────────────┘\n",
      "\n"
     ]
    }
   ],
   "source": [
    "my_agent.ask_question(\n",
    "  question=\"Could you please summarize the total sales by product category in California? Please use state full name\"\n",
    ")\n"
   ]
  }
 ],
 "metadata": {
  "kernelspec": {
   "display_name": "python-3.11-dev",
   "language": "python",
   "name": "python3"
  },
  "language_info": {
   "codemirror_mode": {
    "name": "ipython",
    "version": 3
   },
   "file_extension": ".py",
   "mimetype": "text/x-python",
   "name": "python",
   "nbconvert_exporter": "python",
   "pygments_lexer": "ipython3",
   "version": "3.11.13"
  }
 },
 "nbformat": 4,
 "nbformat_minor": 5
}
