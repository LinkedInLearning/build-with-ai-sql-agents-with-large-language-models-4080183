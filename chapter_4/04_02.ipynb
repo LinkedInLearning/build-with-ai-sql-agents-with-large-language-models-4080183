{
 "cells": [
  {
   "cell_type": "markdown",
   "id": "483e84d4",
   "metadata": {},
   "source": [
    "## The Prompt Handler\n",
    "\n",
    "In this notebook, we will focus on the prompt handler. The goal of the prompt handler is to place the user question in a user and system prompt templates."
   ]
  },
  {
   "cell_type": "markdown",
   "id": "cff29fc0",
   "metadata": {},
   "source": [
    "<br>\n",
    "<figure>\n",
    " <img src=\"assets/prompt.png\" width=\"100%\" align=\"center\"/></a>\n",
    "<figcaption> SQL AI Agent Architecture </figcaption>\n",
    "</figure>\n",
    "\n",
    "<br>\n",
    "\n",
    "Below is the `create_message` function blueprint. It has the following two arguments:\n",
    "- tbl_name - the table name\n",
    "- user_request - the user request or question\n",
    "\n",
    "It returns an object with the user and system prompts.\n",
    "\n",
    "\n",
    "<br>\n",
    "<figure>\n",
    " <img src=\"assets/prompt_handler.png\" width=\"70%\" align=\"center\"/></a>\n",
    "<figcaption> The Prompt Handler </figcaption>\n",
    "</figure>\n",
    "\n",
    "<br>"
   ]
  },
  {
   "cell_type": "code",
   "execution_count": 10,
   "id": "b75cce85",
   "metadata": {},
   "outputs": [],
   "source": [
    "import sys\n",
    "sys.path.append(\"../\")\n",
    "from sql_ai_agent import prompt_handler as ph"
   ]
  },
  {
   "cell_type": "code",
   "execution_count": 9,
   "id": "0674d992",
   "metadata": {},
   "outputs": [
    {
     "data": {
      "text/plain": [
       "<duckdb.duckdb.DuckDBPyConnection at 0xffff3034b7b0>"
      ]
     },
     "execution_count": 9,
     "metadata": {},
     "output_type": "execute_result"
    }
   ],
   "source": [
    "import pandas as pd\n",
    "import duckdb as db\n",
    "\n",
    "retail_sales = pd.read_csv(\"../data/Red30 Tech US online retail sales.csv\")\n",
    "\n",
    "db.register(\"retail_sales\", retail_sales)"
   ]
  },
  {
   "cell_type": "markdown",
   "id": "b8b8cc40",
   "metadata": {},
   "source": [
    "Setting the prompt parameters:"
   ]
  },
  {
   "cell_type": "code",
   "execution_count": 11,
   "id": "bf5ce3bb",
   "metadata": {},
   "outputs": [],
   "source": [
    "user_request = \"What are the total sales by state?\"\n",
    "table_name = \"retail_sales\""
   ]
  },
  {
   "cell_type": "code",
   "execution_count": 5,
   "id": "0bbf087d",
   "metadata": {},
   "outputs": [],
   "source": [
    "message = ph.create_message(tbl_name=table_name, user_request=user_request)"
   ]
  },
  {
   "cell_type": "code",
   "execution_count": 7,
   "id": "07e24a23",
   "metadata": {},
   "outputs": [
    {
     "name": "stdout",
     "output_type": "stream",
     "text": [
      "Given the following SQL table, your job is to write queries given a user’s request. Return just the SQL query as plain text, without additional text, and don't use markdown format.\n",
      "\n",
      "CREATE TABLE retail_sales (OrderNum BIGINT, OrderDate VARCHAR, OrderType VARCHAR, CustomerType VARCHAR, CustName VARCHAR, CustState VARCHAR, ProdCategory VARCHAR, ProdNumber VARCHAR, ProdName VARCHAR, Quantity BIGINT, Price DOUBLE, Discount DOUBLE, OrderTotal DOUBLE)\n",
      "\n"
     ]
    }
   ],
   "source": [
    "print(message.system)"
   ]
  },
  {
   "cell_type": "code",
   "execution_count": 8,
   "id": "7e68dc52",
   "metadata": {},
   "outputs": [
    {
     "name": "stdout",
     "output_type": "stream",
     "text": [
      "Write a SQL query that returns: What are the total sales by state?\n"
     ]
    }
   ],
   "source": [
    "print(message.user)"
   ]
  }
 ],
 "metadata": {
  "kernelspec": {
   "display_name": "python-3.11-dev",
   "language": "python",
   "name": "python3"
  },
  "language_info": {
   "codemirror_mode": {
    "name": "ipython",
    "version": 3
   },
   "file_extension": ".py",
   "mimetype": "text/x-python",
   "name": "python",
   "nbconvert_exporter": "python",
   "pygments_lexer": "ipython3",
   "version": "3.11.13"
  }
 },
 "nbformat": 4,
 "nbformat_minor": 5
}
