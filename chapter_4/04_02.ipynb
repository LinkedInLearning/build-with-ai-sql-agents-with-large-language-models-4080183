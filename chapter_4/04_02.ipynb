{
 "cells": [
  {
   "cell_type": "markdown",
   "id": "483e84d4",
   "metadata": {},
   "source": [
    "## The Prompt Handler\n",
    "\n",
    "In this notebook, we will focus on the prompt handler. The goal of the prompt handler is to place the user question in a user and system prompt templates."
   ]
  },
  {
   "cell_type": "markdown",
   "id": "cff29fc0",
   "metadata": {},
   "source": [
    "<br>\n",
    "<figure>\n",
    " <img src=\"assets/prompt.png\" width=\"100%\" align=\"center\"/></a>\n",
    "<figcaption> SQL AI Agent Architecture </figcaption>\n",
    "</figure>\n",
    "\n",
    "<br>"
   ]
  },
  {
   "cell_type": "code",
   "execution_count": 16,
   "id": "b75cce85",
   "metadata": {},
   "outputs": [],
   "source": [
    "import pandas as pd\n",
    "import duckdb as db\n",
    "import os\n",
    "import sys\n",
    "sys.path.append(\"../\")\n",
    "from sql_ai_agent.api_handler import SqlAgent"
   ]
  },
  {
   "cell_type": "code",
   "execution_count": 17,
   "id": "0674d992",
   "metadata": {},
   "outputs": [
    {
     "data": {
      "text/plain": [
       "<duckdb.duckdb.DuckDBPyConnection at 0xffff21e0ebf0>"
      ]
     },
     "execution_count": 17,
     "metadata": {},
     "output_type": "execute_result"
    }
   ],
   "source": [
    "retail_sales = pd.read_csv(\"../data/Red30 Tech US online retail sales.csv\")\n",
    "\n",
    "db.register(\"retail_sales\", retail_sales)"
   ]
  },
  {
   "cell_type": "markdown",
   "id": "b8b8cc40",
   "metadata": {},
   "source": [
    "Setting the prompt parameters:"
   ]
  },
  {
   "cell_type": "code",
   "execution_count": 18,
   "id": "bf5ce3bb",
   "metadata": {},
   "outputs": [],
   "source": [
    "openai_base_url = \"https://api.openai.com/v1/\"\n",
    "openai_api_key = os.environ.get(\"OPENAI_API_KEY\")\n",
    "\n",
    "my_agent = SqlAgent(\n",
    "    api_key=openai_api_key,\n",
    "    base_url=openai_base_url,\n",
    "    model=\"gpt-5\",\n",
    "    tbl_name=\"retail_sales\",\n",
    "    max_token=5000,\n",
    ")\n"
   ]
  },
  {
   "cell_type": "code",
   "execution_count": 19,
   "id": "0bbf087d",
   "metadata": {},
   "outputs": [
    {
     "name": "stdout",
     "output_type": "stream",
     "text": [
      "Given the following SQL table, your job is to write queries given a user’s request. Return just the SQL query as plain text, without additional text, and don't use markdown format.\n",
      "\n",
      "CREATE TABLE retail_sales (OrderNum BIGINT, OrderDate VARCHAR, OrderType VARCHAR, CustomerType VARCHAR, CustName VARCHAR, CustState VARCHAR, ProdCategory VARCHAR, ProdNumber VARCHAR, ProdName VARCHAR, Quantity BIGINT, Price DOUBLE, Discount DOUBLE, OrderTotal DOUBLE)\n",
      "\n"
     ]
    }
   ],
   "source": [
    "print(my_agent.system.system)"
   ]
  },
  {
   "cell_type": "code",
   "execution_count": 20,
   "id": "7e68dc52",
   "metadata": {},
   "outputs": [
    {
     "name": "stdout",
     "output_type": "stream",
     "text": [
      "SELECT ProdCategory, SUM(OrderTotal) AS total_sales\n",
      "FROM retail_sales\n",
      "GROUP BY ProdCategory\n",
      "ORDER BY total_sales DESC;\n",
      "┌─────────────────┬────────────────────┐\n",
      "│  ProdCategory   │    total_sales     │\n",
      "│     varchar     │       double       │\n",
      "├─────────────────┼────────────────────┤\n",
      "│ Robots          │ 2469965.9999999977 │\n",
      "│ Drones          │ 1820585.1999999983 │\n",
      "│ Robot Kits      │ 1152878.9999999965 │\n",
      "│ Drone Kits      │  682597.1099999978 │\n",
      "│ Training Videos │  416812.1099999998 │\n",
      "│ eBooks          │   266988.639999999 │\n",
      "│ Blueprints      │  89405.99000000031 │\n",
      "└─────────────────┴────────────────────┘\n",
      "\n"
     ]
    }
   ],
   "source": [
    "my_agent.ask_question(question=\"Could you please summarize the total sales by product category?\")\n"
   ]
  },
  {
   "cell_type": "code",
   "execution_count": 21,
   "id": "87c010b7",
   "metadata": {},
   "outputs": [
    {
     "name": "stdout",
     "output_type": "stream",
     "text": [
      "Write a SQL query that returns: Could you please summarize the total sales by product category?\n"
     ]
    }
   ],
   "source": [
    "print(my_agent.user)"
   ]
  }
 ],
 "metadata": {
  "kernelspec": {
   "display_name": "python-3.11-dev",
   "language": "python",
   "name": "python3"
  },
  "language_info": {
   "codemirror_mode": {
    "name": "ipython",
    "version": 3
   },
   "file_extension": ".py",
   "mimetype": "text/x-python",
   "name": "python",
   "nbconvert_exporter": "python",
   "pygments_lexer": "ipython3",
   "version": "3.11.13"
  }
 },
 "nbformat": 4,
 "nbformat_minor": 5
}
