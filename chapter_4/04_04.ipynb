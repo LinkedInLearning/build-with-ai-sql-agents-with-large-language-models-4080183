{
 "cells": [
  {
   "cell_type": "markdown",
   "id": "cae90772",
   "metadata": {},
   "source": [
    "## Best Practices"
   ]
  },
  {
   "cell_type": "code",
   "execution_count": 7,
   "id": "c939ba37",
   "metadata": {},
   "outputs": [],
   "source": [
    "import pandas as pd\n",
    "import duckdb as db\n",
    "import os\n",
    "import sys\n",
    "\n",
    "sys.path.append(\"../\")\n",
    "from sql_ai_agent.api_handler import SqlAgent"
   ]
  },
  {
   "cell_type": "code",
   "execution_count": 8,
   "id": "c80b62e9",
   "metadata": {},
   "outputs": [],
   "source": [
    "retail_sales = pd.read_csv(\"../data/Red30 Tech US online retail sales.csv\")\n",
    "db.register(\"retail_sales\", retail_sales)\n",
    "\n",
    "openai_base_url = \"https://api.openai.com/v1/\"\n",
    "openai_api_key = os.environ.get(\"OPENAI_API_KEY\")\n",
    "\n",
    "my_agent = SqlAgent(\n",
    "    api_key=openai_api_key,\n",
    "    base_url=openai_base_url,\n",
    "    model=\"gpt-5\",\n",
    "    tbl_name=\"retail_sales\",\n",
    "    max_token=5000,\n",
    ")"
   ]
  },
  {
   "cell_type": "markdown",
   "id": "e0f28ce1",
   "metadata": {},
   "source": [
    "### Context\n",
    "\n",
    "- Table name\n",
    "  - Bad: TABLE_A\n",
    "  - Good: RETAIL_SALES\n",
    "- Fields names\n",
    "  - Bad: VAR_1, VAR_2, VAR_3\n",
    "  - Good: STATE, DATE, TOTAL_SALES..."
   ]
  },
  {
   "cell_type": "code",
   "execution_count": 4,
   "id": "77cf0cb9",
   "metadata": {},
   "outputs": [
    {
     "data": {
      "text/html": [
       "<div>\n",
       "<style scoped>\n",
       "    .dataframe tbody tr th:only-of-type {\n",
       "        vertical-align: middle;\n",
       "    }\n",
       "\n",
       "    .dataframe tbody tr th {\n",
       "        vertical-align: top;\n",
       "    }\n",
       "\n",
       "    .dataframe thead th {\n",
       "        text-align: right;\n",
       "    }\n",
       "</style>\n",
       "<table border=\"1\" class=\"dataframe\">\n",
       "  <thead>\n",
       "    <tr style=\"text-align: right;\">\n",
       "      <th></th>\n",
       "      <th>OrderNum</th>\n",
       "      <th>OrderDate</th>\n",
       "      <th>OrderType</th>\n",
       "      <th>CustomerType</th>\n",
       "      <th>CustName</th>\n",
       "      <th>CustState</th>\n",
       "      <th>ProdCategory</th>\n",
       "      <th>ProdNumber</th>\n",
       "      <th>ProdName</th>\n",
       "      <th>Quantity</th>\n",
       "      <th>Price</th>\n",
       "      <th>Discount</th>\n",
       "      <th>OrderTotal</th>\n",
       "    </tr>\n",
       "  </thead>\n",
       "  <tbody>\n",
       "    <tr>\n",
       "      <th>0</th>\n",
       "      <td>1100934</td>\n",
       "      <td>9/1/2017</td>\n",
       "      <td>Wholesale</td>\n",
       "      <td>Business</td>\n",
       "      <td>Gusikowski Group</td>\n",
       "      <td>North Carolina</td>\n",
       "      <td>Blueprints</td>\n",
       "      <td>BP102</td>\n",
       "      <td>Bsquare Robot Blueprint</td>\n",
       "      <td>10</td>\n",
       "      <td>8.99</td>\n",
       "      <td>1.8</td>\n",
       "      <td>88.1</td>\n",
       "    </tr>\n",
       "    <tr>\n",
       "      <th>1</th>\n",
       "      <td>1100935</td>\n",
       "      <td>9/1/2017</td>\n",
       "      <td>Retail</td>\n",
       "      <td>Individual</td>\n",
       "      <td>Spencer Educators</td>\n",
       "      <td>Delaware</td>\n",
       "      <td>Drone Kits</td>\n",
       "      <td>DK204</td>\n",
       "      <td>BYOD-300</td>\n",
       "      <td>2</td>\n",
       "      <td>89.00</td>\n",
       "      <td>0.0</td>\n",
       "      <td>178.0</td>\n",
       "    </tr>\n",
       "    <tr>\n",
       "      <th>2</th>\n",
       "      <td>1100936</td>\n",
       "      <td>9/1/2017</td>\n",
       "      <td>Wholesale</td>\n",
       "      <td>Business</td>\n",
       "      <td>Schinner Inc.</td>\n",
       "      <td>Florida</td>\n",
       "      <td>Training Videos</td>\n",
       "      <td>TV801</td>\n",
       "      <td>Aerial Security</td>\n",
       "      <td>10</td>\n",
       "      <td>36.99</td>\n",
       "      <td>7.4</td>\n",
       "      <td>362.5</td>\n",
       "    </tr>\n",
       "    <tr>\n",
       "      <th>3</th>\n",
       "      <td>1100937</td>\n",
       "      <td>9/1/2017</td>\n",
       "      <td>Retail</td>\n",
       "      <td>Individual</td>\n",
       "      <td>Saxon Laviss</td>\n",
       "      <td>Virginia</td>\n",
       "      <td>Robot Kits</td>\n",
       "      <td>RK602</td>\n",
       "      <td>BYOR-1000</td>\n",
       "      <td>1</td>\n",
       "      <td>189.00</td>\n",
       "      <td>0.0</td>\n",
       "      <td>189.0</td>\n",
       "    </tr>\n",
       "    <tr>\n",
       "      <th>4</th>\n",
       "      <td>1100938</td>\n",
       "      <td>9/1/2017</td>\n",
       "      <td>Retail</td>\n",
       "      <td>Business</td>\n",
       "      <td>Wilderman Technologies</td>\n",
       "      <td>Texas</td>\n",
       "      <td>eBooks</td>\n",
       "      <td>EB502</td>\n",
       "      <td>Building Your First Robot</td>\n",
       "      <td>4</td>\n",
       "      <td>24.95</td>\n",
       "      <td>0.0</td>\n",
       "      <td>99.8</td>\n",
       "    </tr>\n",
       "  </tbody>\n",
       "</table>\n",
       "</div>"
      ],
      "text/plain": [
       "   OrderNum OrderDate  OrderType CustomerType                CustName  \\\n",
       "0   1100934  9/1/2017  Wholesale     Business        Gusikowski Group   \n",
       "1   1100935  9/1/2017     Retail   Individual       Spencer Educators   \n",
       "2   1100936  9/1/2017  Wholesale     Business           Schinner Inc.   \n",
       "3   1100937  9/1/2017     Retail   Individual            Saxon Laviss   \n",
       "4   1100938  9/1/2017     Retail     Business  Wilderman Technologies   \n",
       "\n",
       "        CustState     ProdCategory ProdNumber                   ProdName  \\\n",
       "0  North Carolina       Blueprints      BP102    Bsquare Robot Blueprint   \n",
       "1        Delaware       Drone Kits      DK204                   BYOD-300   \n",
       "2         Florida  Training Videos      TV801            Aerial Security   \n",
       "3        Virginia       Robot Kits      RK602                  BYOR-1000   \n",
       "4           Texas           eBooks      EB502  Building Your First Robot   \n",
       "\n",
       "   Quantity   Price  Discount  OrderTotal  \n",
       "0        10    8.99       1.8        88.1  \n",
       "1         2   89.00       0.0       178.0  \n",
       "2        10   36.99       7.4       362.5  \n",
       "3         1  189.00       0.0       189.0  \n",
       "4         4   24.95       0.0        99.8  "
      ]
     },
     "execution_count": 4,
     "metadata": {},
     "output_type": "execute_result"
    }
   ],
   "source": [
    "retail_sales.head()"
   ]
  },
  {
   "cell_type": "markdown",
   "id": "99f1e28e",
   "metadata": {},
   "source": [
    "### Leverage the Power of Prompt and LLMs"
   ]
  },
  {
   "cell_type": "code",
   "execution_count": 5,
   "id": "702b2dfd",
   "metadata": {},
   "outputs": [
    {
     "name": "stdout",
     "output_type": "stream",
     "text": [
      "SELECT ProdCategory, SUM(OrderTotal) AS total_sales\n",
      "FROM retail_sales\n",
      "WHERE CustState = 'CA'\n",
      "GROUP BY ProdCategory\n",
      "ORDER BY total_sales DESC;\n",
      "┌──────────────┬─────────────┐\n",
      "│ ProdCategory │ total_sales │\n",
      "│   varchar    │   double    │\n",
      "├──────────────┴─────────────┤\n",
      "│           0 rows           │\n",
      "└────────────────────────────┘\n",
      "\n"
     ]
    }
   ],
   "source": [
    "my_agent.ask_question(\n",
    "    question=\"Could you please summarize the total sales by product category in California? \"\n",
    ")\n"
   ]
  },
  {
   "cell_type": "code",
   "execution_count": 6,
   "id": "8ca640c8",
   "metadata": {},
   "outputs": [
    {
     "name": "stdout",
     "output_type": "stream",
     "text": [
      "SELECT\n",
      "  ProdCategory,\n",
      "  'California' AS State,\n",
      "  SUM(COALESCE(OrderTotal, Quantity * Price - COALESCE(Discount, 0))) AS TotalSales\n",
      "FROM retail_sales\n",
      "WHERE UPPER(CustState) IN ('CALIFORNIA', 'CA')\n",
      "GROUP BY ProdCategory\n",
      "ORDER BY TotalSales DESC;\n",
      "┌─────────────────┬────────────┬────────────────────┐\n",
      "│  ProdCategory   │   State    │     TotalSales     │\n",
      "│     varchar     │  varchar   │       double       │\n",
      "├─────────────────┼────────────┼────────────────────┤\n",
      "│ Robots          │ California │  271672.4000000001 │\n",
      "│ Robot Kits      │ California │ 102867.59999999996 │\n",
      "│ Drones          │ California │            61494.0 │\n",
      "│ Drone Kits      │ California │  48553.21999999999 │\n",
      "│ Training Videos │ California │  31583.04000000002 │\n",
      "│ eBooks          │ California │           16709.36 │\n",
      "│ Blueprints      │ California │  7405.899999999994 │\n",
      "└─────────────────┴────────────┴────────────────────┘\n",
      "\n"
     ]
    }
   ],
   "source": [
    "my_agent.ask_question(\n",
    "    question=\"Could you please summarize the total sales by product category in California? Please use state full name\"\n",
    ")\n"
   ]
  },
  {
   "cell_type": "markdown",
   "id": "6483475e",
   "metadata": {},
   "source": [
    "### User Onboarding and Feedback\n",
    "\n",
    "- Consider onboard and educate your end users about what they can do and the limitation of SQL AI Agent\n",
    "- Collect user feedback"
   ]
  },
  {
   "cell_type": "markdown",
   "id": "7e6794ea",
   "metadata": {},
   "source": [
    "### Model and API Documentation\n",
    "\n",
    "<br>\n",
    "<figure>\n",
    " <img src=\"assets/documentation.png\" width=\"100%\" align=\"center\"/></a>\n",
    "<figcaption> API Documentation </figcaption>\n",
    "</figure>\n",
    "\n",
    "<br>"
   ]
  }
 ],
 "metadata": {
  "kernelspec": {
   "display_name": "python-3.11-dev",
   "language": "python",
   "name": "python3"
  },
  "language_info": {
   "codemirror_mode": {
    "name": "ipython",
    "version": 3
   },
   "file_extension": ".py",
   "mimetype": "text/x-python",
   "name": "python",
   "nbconvert_exporter": "python",
   "pygments_lexer": "ipython3",
   "version": "3.11.13"
  }
 },
 "nbformat": 4,
 "nbformat_minor": 5
}
