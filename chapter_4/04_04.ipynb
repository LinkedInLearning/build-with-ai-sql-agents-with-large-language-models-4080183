{
 "cells": [
  {
   "cell_type": "markdown",
   "id": "cae90772",
   "metadata": {},
   "source": [
    "## Database Handler"
   ]
  },
  {
   "cell_type": "markdown",
   "id": "0ff3872e",
   "metadata": {},
   "source": []
  }
 ],
 "metadata": {
  "language_info": {
   "name": "python"
  }
 },
 "nbformat": 4,
 "nbformat_minor": 5
}
