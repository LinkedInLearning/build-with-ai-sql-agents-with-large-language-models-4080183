{
 "cells": [
  {
   "cell_type": "markdown",
   "id": "c187da8e",
   "metadata": {},
   "source": [
    "## SQL AI Agent in Action\n",
    "\n",
    "General Requirements:\n",
    "- OpenAI API Python SDK compatibility \n",
    "- Arguments: \n",
    "   - API arguments\n",
    "   - Table name\n",
    "- Input: question\n",
    "- Output: table\n",
    "\n",
    "<br>\n",
    "<figure>\n",
    " <img src=\"assets/sql_agent.jpg\" width=\"100%\" align=\"center\"/></a>\n",
    "<figcaption> SQL AI Agent Architecture </figcaption>\n",
    "</figure>\n",
    "\n",
    "<br>\n"
   ]
  },
  {
   "cell_type": "code",
   "execution_count": 10,
   "id": "bc056762",
   "metadata": {},
   "outputs": [],
   "source": [
    "import sys\n",
    "import os\n",
    "import pandas as pd\n",
    "import duckdb as db"
   ]
  },
  {
   "cell_type": "code",
   "execution_count": 11,
   "id": "1a03bb97",
   "metadata": {},
   "outputs": [
    {
     "data": {
      "text/plain": [
       "<duckdb.duckdb.DuckDBPyConnection at 0xffff8dfad870>"
      ]
     },
     "execution_count": 11,
     "metadata": {},
     "output_type": "execute_result"
    }
   ],
   "source": [
    "retail_sales = pd.read_csv(\"../data/Red30 Tech US online retail sales.csv\")\n",
    "\n",
    "db.register(\"retail_sales\", retail_sales)"
   ]
  },
  {
   "cell_type": "code",
   "execution_count": 12,
   "id": "3967f38d",
   "metadata": {},
   "outputs": [],
   "source": [
    "sys.path.append(\"../\")\n",
    "from sql_ai_agent.api_handler import SqlAgent\n"
   ]
  },
  {
   "cell_type": "code",
   "execution_count": 13,
   "id": "007cd2cc",
   "metadata": {},
   "outputs": [],
   "source": [
    "claude_api_key = os.getenv(\"CLAUDE_API_KEY\")\n",
    "claude_base_url = \"https://api.anthropic.com/v1/\""
   ]
  },
  {
   "cell_type": "code",
   "execution_count": 14,
   "id": "fd560547",
   "metadata": {},
   "outputs": [],
   "source": [
    "claude_sql_agent = SqlAgent(\n",
    "    api_key=claude_api_key,\n",
    "    base_url=claude_base_url,\n",
    "    model=\"claude-opus-4-1-20250805\",\n",
    "    tbl_name=\"retail_sales\",\n",
    "    max_token=5000,\n",
    ")"
   ]
  },
  {
   "cell_type": "code",
   "execution_count": 15,
   "id": "ce62bbcc",
   "metadata": {},
   "outputs": [
    {
     "name": "stdout",
     "output_type": "stream",
     "text": [
      "SELECT COUNT(*) FROM retail_sales WHERE OrderType = 'Retail'\n",
      "┌──────────────┐\n",
      "│ count_star() │\n",
      "│    int64     │\n",
      "├──────────────┤\n",
      "│         2143 │\n",
      "└──────────────┘\n",
      "\n"
     ]
    }
   ],
   "source": [
    "claude_sql_agent.ask_question(question=\"How many orders were for the type of retail?\")\n"
   ]
  },
  {
   "cell_type": "code",
   "execution_count": null,
   "id": "7ce0a65f",
   "metadata": {},
   "outputs": [],
   "source": [
    "openai_base_url = \"https://api.openai.com/v1/\"\n",
    "openai_api_key = os.environ.get(\"OPENAI_API_KEY\")\n",
    "\n",
    "openai_sql_agent = SqlAgent(\n",
    "    api_key=openai_api_key,\n",
    "    base_url=openai_base_url,\n",
    "    model=\"gpt-5\",\n",
    "    tbl_name=\"retail_sales\",\n",
    "    max_token=5000,\n",
    ")\n"
   ]
  },
  {
   "cell_type": "code",
   "execution_count": null,
   "id": "29efdfae",
   "metadata": {},
   "outputs": [],
   "source": [
    "openai_sql_agent.ask_question(question=\"Could you please summarize the total sales by product category?\")\n"
   ]
  }
 ],
 "metadata": {
  "kernelspec": {
   "display_name": "python-3.11-dev",
   "language": "python",
   "name": "python3"
  },
  "language_info": {
   "codemirror_mode": {
    "name": "ipython",
    "version": 3
   },
   "file_extension": ".py",
   "mimetype": "text/x-python",
   "name": "python",
   "nbconvert_exporter": "python",
   "pygments_lexer": "ipython3",
   "version": "3.11.13"
  }
 },
 "nbformat": 4,
 "nbformat_minor": 5
}
