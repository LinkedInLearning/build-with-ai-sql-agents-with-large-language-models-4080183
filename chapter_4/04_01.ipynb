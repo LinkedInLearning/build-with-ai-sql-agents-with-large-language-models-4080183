{
 "cells": [
  {
   "cell_type": "markdown",
   "id": "c187da8e",
   "metadata": {},
   "source": [
    "## SQL AI Agent in Action\n",
    "\n",
    "General Requirements:\n",
    "- OpenAI API Python SDK compatibility \n",
    "- Arguments: \n",
    "   - API arguments\n",
    "   - Table name\n",
    "- Input: question\n",
    "- Output: table\n",
    "\n",
    "<br>\n",
    "<figure>\n",
    " <img src=\"assets/sql_agent.jpg\" width=\"100%\" align=\"center\"/></a>\n",
    "<figcaption> SQL AI Agent Architecture </figcaption>\n",
    "</figure>\n",
    "\n",
    "<br>\n"
   ]
  },
  {
   "cell_type": "code",
   "execution_count": null,
   "id": "bc056762",
   "metadata": {},
   "outputs": [],
   "source": [
    "import sys\n",
    "import os\n",
    "import pandas as pd\n",
    "import duckdb as db\n"
   ]
  },
  {
   "cell_type": "code",
   "execution_count": null,
   "id": "3967f38d",
   "metadata": {},
   "outputs": [],
   "source": [
    "sys.path.append(\"../\")\n",
    "from sql_ai_agent.api_handler import SqlAgent\n"
   ]
  },
  {
   "cell_type": "code",
   "execution_count": null,
   "id": "d1f6a415",
   "metadata": {},
   "outputs": [],
   "source": [
    "retail_sales = pd.read_csv(\"../data/Red30 Tech US online retail sales.csv\")\n",
    "\n",
    "db.register(\"retail_sales\", retail_sales)\n"
   ]
  },
  {
   "cell_type": "code",
   "execution_count": null,
   "id": "fd560547",
   "metadata": {},
   "outputs": [],
   "source": [
    "claude_api_key = os.getenv(\"CLAUDE_API_KEY\")\n",
    "claude_base_url = \"https://api.anthropic.com/v1/\"\n",
    "\n",
    "claude_sql_agent = SqlAgent(\n",
    "    api_key=claude_api_key,\n",
    "    base_url=claude_base_url,\n",
    "    model=\"claude-opus-4-1-20250805\",\n",
    "    tbl_name=\"retail_sales\",\n",
    "    max_token=5000,\n",
    ")"
   ]
  },
  {
   "cell_type": "code",
   "execution_count": null,
   "id": "ce62bbcc",
   "metadata": {},
   "outputs": [],
   "source": [
    "claude_sql_agent.ask_question(question=\"How many orders were for the type of retail?\")\n"
   ]
  },
  {
   "cell_type": "code",
   "execution_count": null,
   "id": "29efdfae",
   "metadata": {},
   "outputs": [],
   "source": [
    "claude_sql_agent.ask_question(question=\"Who are the top 5 customers by sales?\")\n"
   ]
  },
  {
   "cell_type": "code",
   "execution_count": null,
   "id": "257a1b7c",
   "metadata": {},
   "outputs": [],
   "source": [
    "openai_base_url = \"https://api.openai.com/v1/\"\n",
    "openai_api_key = os.environ.get(\"OPENAI_API_KEY\")\n",
    "\n",
    "openai_sql_agent = SqlAgent(\n",
    "    api_key=openai_api_key,\n",
    "    base_url=openai_base_url,\n",
    "    model=\"gpt-5\",\n",
    "    tbl_name=\"retail_sales\",\n",
    "    max_token=5000,\n",
    ")"
   ]
  },
  {
   "cell_type": "code",
   "execution_count": null,
   "id": "9c232502",
   "metadata": {},
   "outputs": [],
   "source": [
    "openai_sql_agent.ask_question(question=\"Could you please summarize the total sales by product category?\")"
   ]
  },
  {
   "cell_type": "code",
   "execution_count": null,
   "id": "1321bf91",
   "metadata": {},
   "outputs": [],
   "source": [
    "openai_sql_agent.ask_question(question=\"What are the state with the highest sales of robots?\")\n"
   ]
  }
 ],
 "metadata": {
  "language_info": {
   "name": "python"
  }
 },
 "nbformat": 4,
 "nbformat_minor": 5
}
